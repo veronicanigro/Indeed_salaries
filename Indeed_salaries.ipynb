{
 "cells": [
  {
   "cell_type": "markdown",
   "metadata": {
    "focus": false,
    "id": "69b9a648-bcc7-490d-9f9b-ea244d156bd6"
   },
   "source": [
    "# Web Scraping for Indeed.com and Predicting Salaries"
   ]
  },
  {
   "cell_type": "markdown",
   "metadata": {},
   "source": [
    "### Task\n",
    "\n",
    "You're working as a data scientist for a contracting firm that's rapidly expanding. Now that they have their most valuable employee (you!), they need to leverage data to win more contracts. Your firm offers technology and scientific solutions and wants to be competitive in the hiring market. Your principal wants you to\n",
    "\n",
    "   - determine the industry factors that are most important in predicting the salary amounts for these data.\n",
    "\n",
    "To limit the scope, your principal has suggested that you *focus on data-related job postings*, e.g. data scientist, data analyst, research scientist, business intelligence, and any others you might think of. You may also want to decrease the scope by *limiting your search to a single region.*\n",
    "\n",
    "Hint: Aggregators like [Indeed.com](https://www.indeed.com) regularly pool job postings from a variety of markets and industries.\n",
    "\n",
    "**Goal:** Scrape your own data from a job aggregation tool like Indeed.com in order to collect the data to best answer this question.\n",
    "\n",
    "To predict salary the most appropriate approach would be a regression model.\n",
    "Here instead we just want to estimate which factors (like location, job title, job level, industry sector) lead to high or low salary and work with a classification model. To do so, split the salary into two groups of high and low salary, for example by choosing the median salary as a threshold (in principle you could choose any single or multiple splitting points).\n"
   ]
  },
  {
   "cell_type": "markdown",
   "metadata": {},
   "source": [
    "### Import Packages"
   ]
  },
  {
   "cell_type": "code",
   "execution_count": 1,
   "metadata": {
    "ExecuteTime": {
     "end_time": "2020-04-07T14:43:57.199851Z",
     "start_time": "2020-04-07T14:43:56.276040Z"
    },
    "focus": false,
    "id": "2efefc73-064a-482d-b3b5-ddf5508cb4ec"
   },
   "outputs": [],
   "source": [
    "import pandas as pd\n",
    "import numpy as np\n",
    "\n",
    "from tqdm import tqdm\n",
    "import requests\n",
    "import bs4\n",
    "from bs4 import BeautifulSoup\n",
    "\n",
    "import matplotlib.pyplot as plt\n",
    "import seaborn as sns"
   ]
  },
  {
   "cell_type": "code",
   "execution_count": 2,
   "metadata": {
    "ExecuteTime": {
     "end_time": "2020-04-07T14:43:57.262325Z",
     "start_time": "2020-04-07T14:43:57.226769Z"
    }
   },
   "outputs": [],
   "source": [
    "import time"
   ]
  },
  {
   "cell_type": "code",
   "execution_count": 3,
   "metadata": {
    "ExecuteTime": {
     "end_time": "2020-04-07T14:43:58.110233Z",
     "start_time": "2020-04-07T14:43:58.102424Z"
    }
   },
   "outputs": [],
   "source": [
    "pd.set_option('display.max_rows', None)"
   ]
  },
  {
   "cell_type": "markdown",
   "metadata": {
    "focus": false,
    "id": "f1eddb90-4ba8-483c-a229-77e93aa53119"
   },
   "source": [
    "### Functions to extract company, job, and salary.\n"
   ]
  },
  {
   "cell_type": "code",
   "execution_count": 4,
   "metadata": {
    "focus": false,
    "id": "a1af53c9-9090-494f-b82e-cadb60a54909"
   },
   "outputs": [],
   "source": [
    "def get_title(html):\n",
    "    try:\n",
    "        return html.find('a', attrs = {'data-tn-element': 'jobTitle'}).text.replace('\\n','')\n",
    "    except:\n",
    "        return None"
   ]
  },
  {
   "cell_type": "code",
   "execution_count": 5,
   "metadata": {},
   "outputs": [],
   "source": [
    "def get_company(html):\n",
    "    try:\n",
    "        return html.find('span', attrs = {'class': 'company'}).text.replace('\\n','')\n",
    "    except:\n",
    "        return None"
   ]
  },
  {
   "cell_type": "code",
   "execution_count": 7,
   "metadata": {},
   "outputs": [],
   "source": [
    "def get_salary(html):\n",
    "    try:\n",
    "        return html.find('span', attrs = {'class': 'salaryText'}).text.replace('\\n','')\n",
    "    except:\n",
    "        return None"
   ]
  },
  {
   "cell_type": "markdown",
   "metadata": {
    "focus": false,
    "id": "e8beed7c-3e42-40c0-810f-5f67f8f885a0"
   },
   "source": [
    "### Web Scraping"
   ]
  },
  {
   "cell_type": "code",
   "execution_count": 8,
   "metadata": {},
   "outputs": [],
   "source": [
    "# cities to include in the search\n",
    "\n",
    "cities = ['Nottingham', 'Birmingham','Manchester','Leeds','Reading','Glasgow','Edinburgh','Newcastle',\n",
    "          'Liverpool','Bristol','Oxford','Cambridge','London', 'Belfast']"
   ]
  },
  {
   "cell_type": "code",
   "execution_count": 9,
   "metadata": {},
   "outputs": [],
   "source": [
    "# the url includes search for data scientist, data analyst, data engineer or data science\n",
    "# radius is 25 miles\n",
    "\n",
    "url = 'https://www.indeed.co.uk/jobs?q=%22data%22+AND+%28%22scientist%22+OR+%22analyst%22+OR+%22engineer%22+OR+%22science%22%29&l={}&start={}'\n"
   ]
  },
  {
   "cell_type": "code",
   "execution_count": 10,
   "metadata": {
    "scrolled": true
   },
   "outputs": [
    {
     "name": "stderr",
     "output_type": "stream",
     "text": [
      "100%|██████████| 95/95 [02:18<00:00,  1.46s/it]\n",
      "100%|██████████| 95/95 [02:23<00:00,  1.51s/it]\n",
      "100%|██████████| 95/95 [02:21<00:00,  1.49s/it]\n",
      "100%|██████████| 95/95 [02:21<00:00,  1.49s/it]\n",
      "100%|██████████| 95/95 [02:26<00:00,  1.54s/it]\n",
      "100%|██████████| 95/95 [02:21<00:00,  1.49s/it]\n",
      "100%|██████████| 95/95 [02:25<00:00,  1.53s/it]\n",
      "100%|██████████| 95/95 [02:20<00:00,  1.48s/it]\n",
      "100%|██████████| 95/95 [02:31<00:00,  1.59s/it]\n",
      "100%|██████████| 95/95 [02:25<00:00,  1.54s/it]\n",
      "100%|██████████| 95/95 [02:30<00:00,  1.58s/it]\n",
      "100%|██████████| 95/95 [02:19<00:00,  1.47s/it]\n",
      "100%|██████████| 95/95 [02:23<00:00,  1.52s/it]\n",
      "100%|██████████| 95/95 [02:24<00:00,  1.52s/it]\n"
     ]
    }
   ],
   "source": [
    "result = []\n",
    "title = []\n",
    "company = []\n",
    "area = []\n",
    "salary = []\n",
    "\n",
    "for city in cities:\n",
    "    for i in tqdm(range(0, 950, 10)):\n",
    "        time.sleep(1)            \n",
    "        r = requests.get(url.format(city, i))\n",
    "        soup = BeautifulSoup(r.text, 'html.parser')\n",
    "        \n",
    "        for post in soup.find_all('div', attrs = {'class': \"result\"}):\n",
    "            result.extend(post)\n",
    "            title.append(get_title(post)) \n",
    "            company.append(get_company(post)) \n",
    "            area.append(city) \n",
    "            salary.append(get_salary(post)) \n",
    "            \n",
    "            \n",
    "        "
   ]
  },
  {
   "cell_type": "code",
   "execution_count": 11,
   "metadata": {},
   "outputs": [],
   "source": [
    "df = pd.DataFrame({'title': title, 'company': company, 'area': area,\n",
    "                   'salary': salary } )"
   ]
  },
  {
   "cell_type": "code",
   "execution_count": 12,
   "metadata": {},
   "outputs": [
    {
     "data": {
      "text/plain": [
       "(24150, 4)"
      ]
     },
     "execution_count": 12,
     "metadata": {},
     "output_type": "execute_result"
    }
   ],
   "source": [
    "df.shape"
   ]
  },
  {
   "cell_type": "code",
   "execution_count": 14,
   "metadata": {},
   "outputs": [
    {
     "data": {
      "text/plain": [
       "16175"
      ]
     },
     "execution_count": 14,
     "metadata": {},
     "output_type": "execute_result"
    }
   ],
   "source": [
    "df.duplicated().sum()"
   ]
  },
  {
   "cell_type": "code",
   "execution_count": 15,
   "metadata": {},
   "outputs": [],
   "source": [
    "# remove duplicates\n",
    "df.drop_duplicates(inplace = True)"
   ]
  },
  {
   "cell_type": "code",
   "execution_count": 17,
   "metadata": {},
   "outputs": [
    {
     "data": {
      "text/plain": [
       "title         0\n",
       "company       4\n",
       "area          0\n",
       "salary     5148\n",
       "dtype: int64"
      ]
     },
     "execution_count": 17,
     "metadata": {},
     "output_type": "execute_result"
    }
   ],
   "source": [
    "df.isnull().sum()"
   ]
  },
  {
   "cell_type": "code",
   "execution_count": 19,
   "metadata": {},
   "outputs": [],
   "source": [
    "# remove job posting that dont include salary\n",
    "df.dropna(inplace = True)"
   ]
  },
  {
   "cell_type": "code",
   "execution_count": 31,
   "metadata": {},
   "outputs": [],
   "source": [
    "# only keep salaries per year\n",
    "df.drop(df[~df['salary'].str.contains('a year')].index, inplace = True)"
   ]
  },
  {
   "cell_type": "code",
   "execution_count": 33,
   "metadata": {},
   "outputs": [
    {
     "data": {
      "text/plain": [
       "(2509, 4)"
      ]
     },
     "execution_count": 33,
     "metadata": {},
     "output_type": "execute_result"
    }
   ],
   "source": [
    "df.shape"
   ]
  },
  {
   "cell_type": "code",
   "execution_count": 37,
   "metadata": {},
   "outputs": [],
   "source": [
    "# function that takes a salary string and converts it to a number, averaging a salary range if necessary\n",
    "\n",
    "def salary_clean(df_col):\n",
    "    new_column = []\n",
    "    for i in df_col.map(lambda x: x.replace(' a year', '').replace('£','').replace(',','').split('-')):\n",
    "        x = np.array(i, dtype= int)\n",
    "        new_column.append(np.mean(x)) \n",
    "    return new_column"
   ]
  },
  {
   "cell_type": "code",
   "execution_count": 39,
   "metadata": {},
   "outputs": [],
   "source": [
    "df.salary = salary_clean(df.salary)"
   ]
  },
  {
   "cell_type": "code",
   "execution_count": 40,
   "metadata": {},
   "outputs": [
    {
     "data": {
      "text/html": [
       "<div>\n",
       "<style scoped>\n",
       "    .dataframe tbody tr th:only-of-type {\n",
       "        vertical-align: middle;\n",
       "    }\n",
       "\n",
       "    .dataframe tbody tr th {\n",
       "        vertical-align: top;\n",
       "    }\n",
       "\n",
       "    .dataframe thead th {\n",
       "        text-align: right;\n",
       "    }\n",
       "</style>\n",
       "<table border=\"1\" class=\"dataframe\">\n",
       "  <thead>\n",
       "    <tr style=\"text-align: right;\">\n",
       "      <th></th>\n",
       "      <th>title</th>\n",
       "      <th>company</th>\n",
       "      <th>area</th>\n",
       "      <th>salary</th>\n",
       "    </tr>\n",
       "  </thead>\n",
       "  <tbody>\n",
       "    <tr>\n",
       "      <th>4</th>\n",
       "      <td>Treasury &amp; Asset Analyst</td>\n",
       "      <td>Nottingham Community Housing Association</td>\n",
       "      <td>Nottingham</td>\n",
       "      <td>24029.5</td>\n",
       "    </tr>\n",
       "    <tr>\n",
       "      <th>6</th>\n",
       "      <td>Data Analyst</td>\n",
       "      <td>My Talent Hub</td>\n",
       "      <td>Nottingham</td>\n",
       "      <td>25000.0</td>\n",
       "    </tr>\n",
       "    <tr>\n",
       "      <th>7</th>\n",
       "      <td>Junior Data Scientist</td>\n",
       "      <td>Oscar Technology</td>\n",
       "      <td>Nottingham</td>\n",
       "      <td>35000.0</td>\n",
       "    </tr>\n",
       "    <tr>\n",
       "      <th>8</th>\n",
       "      <td>HR Data Analyst</td>\n",
       "      <td>Derbyshire County Council</td>\n",
       "      <td>Nottingham</td>\n",
       "      <td>25977.0</td>\n",
       "    </tr>\n",
       "    <tr>\n",
       "      <th>10</th>\n",
       "      <td>111 Workforce and Performance Insight Analyst</td>\n",
       "      <td>DHU Health Care CIC</td>\n",
       "      <td>Nottingham</td>\n",
       "      <td>35000.0</td>\n",
       "    </tr>\n",
       "  </tbody>\n",
       "</table>\n",
       "</div>"
      ],
      "text/plain": [
       "                                            title  \\\n",
       "4                        Treasury & Asset Analyst   \n",
       "6                                    Data Analyst   \n",
       "7                           Junior Data Scientist   \n",
       "8                                 HR Data Analyst   \n",
       "10  111 Workforce and Performance Insight Analyst   \n",
       "\n",
       "                                     company        area   salary  \n",
       "4   Nottingham Community Housing Association  Nottingham  24029.5  \n",
       "6                              My Talent Hub  Nottingham  25000.0  \n",
       "7                           Oscar Technology  Nottingham  35000.0  \n",
       "8                  Derbyshire County Council  Nottingham  25977.0  \n",
       "10                       DHU Health Care CIC  Nottingham  35000.0  "
      ]
     },
     "execution_count": 40,
     "metadata": {},
     "output_type": "execute_result"
    }
   ],
   "source": [
    "df.head()"
   ]
  },
  {
   "cell_type": "code",
   "execution_count": null,
   "metadata": {},
   "outputs": [],
   "source": [
    "df_final = df.reset_index(drop = True)\n",
    "df_final.to_csv(\"indeed_jobs.csv\", index = False)"
   ]
  },
  {
   "cell_type": "markdown",
   "metadata": {
    "focus": false,
    "id": "243e949e-2742-40af-872e-fec475fd306c"
   },
   "source": [
    "### Create binary variable: whether the salary is lower or higher than median"
   ]
  },
  {
   "cell_type": "code",
   "execution_count": 114,
   "metadata": {
    "focus": false,
    "id": "588f9845-6143-4bcc-bfd1-85d45b79303d"
   },
   "outputs": [],
   "source": [
    "jobs = pd.read_csv('indeed_jobs.csv')"
   ]
  },
  {
   "cell_type": "code",
   "execution_count": 116,
   "metadata": {},
   "outputs": [
    {
     "data": {
      "text/plain": [
       "Manchester    313\n",
       "Oxford        295\n",
       "Reading       283\n",
       "London        260\n",
       "Birmingham    241\n",
       "Leeds         193\n",
       "Cambridge     191\n",
       "Bristol       171\n",
       "Liverpool     141\n",
       "Nottingham    116\n",
       "Newcastle      82\n",
       "Edinburgh      82\n",
       "Belfast        76\n",
       "Glasgow        65\n",
       "Name: area, dtype: int64"
      ]
     },
     "execution_count": 116,
     "metadata": {},
     "output_type": "execute_result"
    }
   ],
   "source": [
    "jobs.area.value_counts()"
   ]
  },
  {
   "cell_type": "code",
   "execution_count": 118,
   "metadata": {},
   "outputs": [
    {
     "data": {
      "image/png": "[encoded data removed]",
      "text/plain": [
       "<Figure size 432x288 with 1 Axes>"
      ]
     },
     "metadata": {
      "needs_background": "light"
     },
     "output_type": "display_data"
    }
   ],
   "source": [
    "sns.distplot(jobs.salary);"
   ]
  },
  {
   "cell_type": "code",
   "execution_count": 119,
   "metadata": {
    "focus": false,
    "id": "c20d2498-151c-44c3-a453-3a333c79a0ac"
   },
   "outputs": [
    {
     "data": {
      "text/plain": [
       "40585.84754882423"
      ]
     },
     "execution_count": 119,
     "metadata": {},
     "output_type": "execute_result"
    }
   ],
   "source": [
    "jobs.salary.mean()"
   ]
  },
  {
   "cell_type": "code",
   "execution_count": 120,
   "metadata": {},
   "outputs": [
    {
     "data": {
      "text/plain": [
       "37500.0"
      ]
     },
     "execution_count": 120,
     "metadata": {},
     "output_type": "execute_result"
    }
   ],
   "source": [
    "jobs.salary.median()"
   ]
  },
  {
   "cell_type": "code",
   "execution_count": 121,
   "metadata": {},
   "outputs": [],
   "source": [
    "salary_high_low = jobs.salary.map(lambda x: 1 if x >= jobs.salary.median() else 0)"
   ]
  },
  {
   "cell_type": "code",
   "execution_count": 122,
   "metadata": {},
   "outputs": [],
   "source": [
    "jobs['salary_high_low'] = salary_high_low"
   ]
  },
  {
   "cell_type": "markdown",
   "metadata": {
    "focus": false,
    "id": "a7afb2c0-d41e-4779-8216-91cd8dd4473f"
   },
   "source": [
    "#### What is the baseline accuracy for this model?"
   ]
  },
  {
   "cell_type": "code",
   "execution_count": 123,
   "metadata": {
    "focus": false,
    "id": "87a17d3d-b7f4-4747-9f75-f9af1d18a174"
   },
   "outputs": [
    {
     "name": "stdout",
     "output_type": "stream",
     "text": [
      "Baseline accuracy: 0.5173375846950976\n"
     ]
    }
   ],
   "source": [
    "print('Baseline accuracy:',jobs.salary_high_low.value_counts(normalize = True).max())"
   ]
  },
  {
   "cell_type": "markdown",
   "metadata": {
    "focus": false,
    "heading_collapsed": true,
    "id": "4fb29de2-5b98-474c-a4ad-5170b72b9aea"
   },
   "source": [
    "### Create a classification model to predict High/Low salary. \n",
    "\n",
    "\n",
    "- Start by ONLY using the location as a feature.\n",
    "- Use at least two different classifiers you find suitable.\n",
    "- Remember that scaling your features might be necessary.\n",
    "- Display the coefficients/feature importances and write a short summary of what they mean.\n",
    "- Create a few new variables in your dataframe to represent interesting features of a job title (e.g. whether 'Senior' or 'Manager' is in the title).\n",
    "- Incorporate other text features from the title or summary that you believe will predict the salary.\n",
    "- Then build new classification models including also those features. Do they add any value?\n",
    "- Tune your models by testing parameter ranges, regularization strengths, etc. Discuss how that affects your models.\n",
    "- Discuss model coefficients or feature importances as applicable."
   ]
  },
  {
   "cell_type": "markdown",
   "metadata": {},
   "source": [
    "### Classification model with only location as feature"
   ]
  },
  {
   "cell_type": "code",
   "execution_count": 124,
   "metadata": {
    "scrolled": true
   },
   "outputs": [
    {
     "data": {
      "image/png": "[encoded data removed]",
      "text/plain": [
       "<Figure size 432x288 with 1 Axes>"
      ]
     },
     "metadata": {
      "needs_background": "light"
     },
     "output_type": "display_data"
    }
   ],
   "source": [
    "jobs.groupby('area').salary.mean().plot(kind = 'bar');"
   ]
  },
  {
   "cell_type": "code",
   "execution_count": 125,
   "metadata": {},
   "outputs": [],
   "source": [
    "y = jobs.salary_high_low\n",
    "X = pd.get_dummies(jobs.area)"
   ]
  },
  {
   "cell_type": "code",
   "execution_count": 126,
   "metadata": {},
   "outputs": [],
   "source": [
    "# dropping liverpool because it has the lowest mean salary\n",
    "X.drop('Liverpool', axis = 1, inplace = True)"
   ]
  },
  {
   "cell_type": "code",
   "execution_count": 4,
   "metadata": {
    "ExecuteTime": {
     "end_time": "2020-04-07T14:45:15.388696Z",
     "start_time": "2020-04-07T14:45:14.386432Z"
    }
   },
   "outputs": [],
   "source": [
    "from sklearn.preprocessing import StandardScaler\n",
    "from sklearn.linear_model import LogisticRegression\n",
    "from sklearn.neighbors import KNeighborsClassifier\n",
    "from sklearn.model_selection import train_test_split, cross_val_score, GridSearchCV"
   ]
  },
  {
   "cell_type": "code",
   "execution_count": 70,
   "metadata": {},
   "outputs": [],
   "source": [
    "X_train, X_test, y_train, y_test = train_test_split(X, y, stratify=y, test_size=0.2, random_state=1)"
   ]
  },
  {
   "cell_type": "code",
   "execution_count": 71,
   "metadata": {},
   "outputs": [],
   "source": [
    "scaler = StandardScaler()"
   ]
  },
  {
   "cell_type": "code",
   "execution_count": 72,
   "metadata": {},
   "outputs": [],
   "source": [
    "X_train = scaler.fit_transform(X_train)\n",
    "X_test = scaler.transform(X_test)\n",
    "\n",
    "X_train = pd.DataFrame(X_train, columns = X.columns)\n",
    "X_test = pd.DataFrame(X_test, columns = X.columns)"
   ]
  },
  {
   "cell_type": "code",
   "execution_count": 74,
   "metadata": {},
   "outputs": [],
   "source": [
    "# set up grid search with logistic regression model\n",
    "\n",
    "lr = LogisticRegression()\n",
    "\n",
    "lr_params = {'C': np.logspace(-4, 4, 10),\n",
    "          'penalty': ['l1', 'l2'],\n",
    "          'fit_intercept': [True, False],\n",
    "          'solver': ['liblinear','lbfgs', 'saga']}\n",
    "\n",
    "gs_lr = GridSearchCV(estimator=lr,\n",
    "                     param_grid=lr_params,\n",
    "                     cv=5,\n",
    "                     verbose = 1,\n",
    "                    n_jobs = 2)\n",
    "\n"
   ]
  },
  {
   "cell_type": "code",
   "execution_count": 75,
   "metadata": {},
   "outputs": [
    {
     "name": "stdout",
     "output_type": "stream",
     "text": [
      "Fitting 5 folds for each of 120 candidates, totalling 600 fits\n"
     ]
    },
    {
     "name": "stderr",
     "output_type": "stream",
     "text": [
      "[Parallel(n_jobs=2)]: Using backend LokyBackend with 2 concurrent workers.\n",
      "[Parallel(n_jobs=2)]: Done 553 tasks      | elapsed:    4.1s\n",
      "[Parallel(n_jobs=2)]: Done 600 out of 600 | elapsed:    4.2s finished\n"
     ]
    },
    {
     "data": {
      "text/plain": [
       "GridSearchCV(cv=5, error_score=nan,\n",
       "             estimator=LogisticRegression(C=1.0, class_weight=None, dual=False,\n",
       "                                          fit_intercept=True,\n",
       "                                          intercept_scaling=1, l1_ratio=None,\n",
       "                                          max_iter=100, multi_class='auto',\n",
       "                                          n_jobs=None, penalty='l2',\n",
       "                                          random_state=None, solver='lbfgs',\n",
       "                                          tol=0.0001, verbose=0,\n",
       "                                          warm_start=False),\n",
       "             iid='deprecated', n_jobs=2,\n",
       "             param_grid={'C': array([1.00000000e-04, 7.74263683e-04, 5.99484250e-03, 4.64158883e-02,\n",
       "       3.59381366e-01, 2.78255940e+00, 2.15443469e+01, 1.66810054e+02,\n",
       "       1.29154967e+03, 1.00000000e+04]),\n",
       "                         'fit_intercept': [True, False],\n",
       "                         'penalty': ['l1', 'l2'],\n",
       "                         'solver': ['liblinear', 'lbfgs', 'saga']},\n",
       "             pre_dispatch='2*n_jobs', refit=True, return_train_score=False,\n",
       "             scoring=None, verbose=1)"
      ]
     },
     "execution_count": 75,
     "metadata": {},
     "output_type": "execute_result"
    }
   ],
   "source": [
    "gs_lr.fit(X_train,y_train)"
   ]
  },
  {
   "cell_type": "code",
   "execution_count": 77,
   "metadata": {},
   "outputs": [
    {
     "name": "stdout",
     "output_type": "stream",
     "text": [
      "Best Parameters:\n",
      "{'C': 0.046415888336127774, 'fit_intercept': True, 'penalty': 'l1', 'solver': 'saga'}\n",
      "Best estimator C:\n",
      "0.046415888336127774\n",
      "Best estimator mean cross validated training score:\n",
      "0.5739779903475143\n",
      "Best estimator score on the full training set:\n",
      "0.5739910313901345\n",
      "Best estimator score on the test set:\n",
      "0.5438247011952191\n",
      "Best estimator coefficients:\n",
      "[[ 0.06580126 -0.00182681  0.06824915  0.19994398  0.072063    0.\n",
      "  -0.00468359  0.17523834  0.          0.         -0.01790447  0.\n",
      "  -0.00374226]]\n"
     ]
    }
   ],
   "source": [
    "# extract the grid search results\n",
    "\n",
    "print('Best Parameters:')\n",
    "print(gs_lr.best_params_)\n",
    "print('Best estimator C:')\n",
    "print(gs_lr.best_estimator_.C)\n",
    "print('Best estimator mean cross validated training score:')\n",
    "print(gs_lr.best_score_)\n",
    "print('Best estimator score on the full training set:')\n",
    "print(gs_lr.score(X_train, y_train))\n",
    "print('Best estimator score on the test set:')\n",
    "print(gs_lr.score(X_test, y_test))\n",
    "print('Best estimator coefficients:')\n",
    "print(gs_lr.best_estimator_.coef_)"
   ]
  },
  {
   "cell_type": "code",
   "execution_count": 85,
   "metadata": {},
   "outputs": [
    {
     "data": {
      "text/html": [
       "<div>\n",
       "<style scoped>\n",
       "    .dataframe tbody tr th:only-of-type {\n",
       "        vertical-align: middle;\n",
       "    }\n",
       "\n",
       "    .dataframe tbody tr th {\n",
       "        vertical-align: top;\n",
       "    }\n",
       "\n",
       "    .dataframe thead th {\n",
       "        text-align: right;\n",
       "    }\n",
       "</style>\n",
       "<table border=\"1\" class=\"dataframe\">\n",
       "  <thead>\n",
       "    <tr style=\"text-align: right;\">\n",
       "      <th></th>\n",
       "      <th>coeff</th>\n",
       "    </tr>\n",
       "  </thead>\n",
       "  <tbody>\n",
       "    <tr>\n",
       "      <th>Cambridge</th>\n",
       "      <td>0.199944</td>\n",
       "    </tr>\n",
       "    <tr>\n",
       "      <th>London</th>\n",
       "      <td>0.175238</td>\n",
       "    </tr>\n",
       "    <tr>\n",
       "      <th>Edinburgh</th>\n",
       "      <td>0.072063</td>\n",
       "    </tr>\n",
       "    <tr>\n",
       "      <th>Bristol</th>\n",
       "      <td>0.068249</td>\n",
       "    </tr>\n",
       "    <tr>\n",
       "      <th>Belfast</th>\n",
       "      <td>0.065801</td>\n",
       "    </tr>\n",
       "    <tr>\n",
       "      <th>Glasgow</th>\n",
       "      <td>0.000000</td>\n",
       "    </tr>\n",
       "    <tr>\n",
       "      <th>Manchester</th>\n",
       "      <td>0.000000</td>\n",
       "    </tr>\n",
       "    <tr>\n",
       "      <th>Newcastle</th>\n",
       "      <td>0.000000</td>\n",
       "    </tr>\n",
       "    <tr>\n",
       "      <th>Oxford</th>\n",
       "      <td>0.000000</td>\n",
       "    </tr>\n",
       "    <tr>\n",
       "      <th>Birmingham</th>\n",
       "      <td>-0.001827</td>\n",
       "    </tr>\n",
       "    <tr>\n",
       "      <th>Reading</th>\n",
       "      <td>-0.003742</td>\n",
       "    </tr>\n",
       "    <tr>\n",
       "      <th>Leeds</th>\n",
       "      <td>-0.004684</td>\n",
       "    </tr>\n",
       "    <tr>\n",
       "      <th>Nottingham</th>\n",
       "      <td>-0.017904</td>\n",
       "    </tr>\n",
       "  </tbody>\n",
       "</table>\n",
       "</div>"
      ],
      "text/plain": [
       "               coeff\n",
       "Cambridge   0.199944\n",
       "London      0.175238\n",
       "Edinburgh   0.072063\n",
       "Bristol     0.068249\n",
       "Belfast     0.065801\n",
       "Glasgow     0.000000\n",
       "Manchester  0.000000\n",
       "Newcastle   0.000000\n",
       "Oxford      0.000000\n",
       "Birmingham -0.001827\n",
       "Reading    -0.003742\n",
       "Leeds      -0.004684\n",
       "Nottingham -0.017904"
      ]
     },
     "execution_count": 85,
     "metadata": {},
     "output_type": "execute_result"
    }
   ],
   "source": [
    "pd.DataFrame(gs_lr.best_estimator_.coef_, columns = [X_train.columns], index = ['coeff']).T.sort_values('coeff', ascending = False)\n"
   ]
  },
  {
   "cell_type": "code",
   "execution_count": 5,
   "metadata": {
    "ExecuteTime": {
     "end_time": "2020-04-07T14:45:25.027851Z",
     "start_time": "2020-04-07T14:45:24.812199Z"
    }
   },
   "outputs": [],
   "source": [
    "from sklearn.ensemble import GradientBoostingClassifier\n",
    "from sklearn.tree import DecisionTreeClassifier"
   ]
  },
  {
   "cell_type": "code",
   "execution_count": 88,
   "metadata": {},
   "outputs": [],
   "source": [
    "dtc = DecisionTreeClassifier()\n",
    "\n",
    "dtc_params = {\n",
    "    'max_depth': list(range(1, 10))+[None],\n",
    "    'criterion': ['gini', 'entropy'],\n",
    "    'max_features': list(range(1, 10))+[None],\n",
    "    'min_samples_split': [2, 3, 4, 5, 10, 15, 20, 25, 30, 40, 50],\n",
    "    'ccp_alpha': [0, 0.001, 0.005, 0.01]\n",
    "}\n",
    "\n",
    "\n",
    "gs_dtc = GridSearchCV(dtc, dtc_params, cv=5, verbose=1, n_jobs=2)"
   ]
  },
  {
   "cell_type": "code",
   "execution_count": 89,
   "metadata": {},
   "outputs": [
    {
     "name": "stdout",
     "output_type": "stream",
     "text": [
      "Fitting 5 folds for each of 8800 candidates, totalling 44000 fits\n"
     ]
    },
    {
     "name": "stderr",
     "output_type": "stream",
     "text": [
      "[Parallel(n_jobs=2)]: Using backend LokyBackend with 2 concurrent workers.\n",
      "[Parallel(n_jobs=2)]: Done 460 tasks      | elapsed:    4.4s\n",
      "[Parallel(n_jobs=2)]: Done 5260 tasks      | elapsed:   21.9s\n",
      "[Parallel(n_jobs=2)]: Done 13260 tasks      | elapsed:   57.6s\n",
      "[Parallel(n_jobs=2)]: Done 24460 tasks      | elapsed:  1.7min\n",
      "[Parallel(n_jobs=2)]: Done 38860 tasks      | elapsed:  2.4min\n",
      "[Parallel(n_jobs=2)]: Done 44000 out of 44000 | elapsed:  2.7min finished\n"
     ]
    },
    {
     "data": {
      "text/plain": [
       "GridSearchCV(cv=5, error_score=nan,\n",
       "             estimator=DecisionTreeClassifier(ccp_alpha=0.0, class_weight=None,\n",
       "                                              criterion='gini', max_depth=None,\n",
       "                                              max_features=None,\n",
       "                                              max_leaf_nodes=None,\n",
       "                                              min_impurity_decrease=0.0,\n",
       "                                              min_impurity_split=None,\n",
       "                                              min_samples_leaf=1,\n",
       "                                              min_samples_split=2,\n",
       "                                              min_weight_fraction_leaf=0.0,\n",
       "                                              presort='deprecated',\n",
       "                                              random_state=None,\n",
       "                                              splitter='best'),\n",
       "             iid='deprecated', n_jobs=2,\n",
       "             param_grid={'ccp_alpha': [0, 0.001, 0.005, 0.01],\n",
       "                         'criterion': ['gini', 'entropy'],\n",
       "                         'max_depth': [1, 2, 3, 4, 5, 6, 7, 8, 9, None],\n",
       "                         'max_features': [1, 2, 3, 4, 5, 6, 7, 8, 9, None],\n",
       "                         'min_samples_split': [2, 3, 4, 5, 10, 15, 20, 25, 30,\n",
       "                                               40, 50]},\n",
       "             pre_dispatch='2*n_jobs', refit=True, return_train_score=False,\n",
       "             scoring=None, verbose=1)"
      ]
     },
     "execution_count": 89,
     "metadata": {},
     "output_type": "execute_result"
    }
   ],
   "source": [
    "gs_dtc.fit(X_train, y_train)"
   ]
  },
  {
   "cell_type": "code",
   "execution_count": 94,
   "metadata": {},
   "outputs": [
    {
     "data": {
      "text/plain": [
       "DecisionTreeClassifier(ccp_alpha=0, class_weight=None, criterion='gini',\n",
       "                       max_depth=6, max_features=8, max_leaf_nodes=None,\n",
       "                       min_impurity_decrease=0.0, min_impurity_split=None,\n",
       "                       min_samples_leaf=1, min_samples_split=25,\n",
       "                       min_weight_fraction_leaf=0.0, presort='deprecated',\n",
       "                       random_state=None, splitter='best')"
      ]
     },
     "execution_count": 94,
     "metadata": {},
     "output_type": "execute_result"
    }
   ],
   "source": [
    "gs_dtc.best_estimator_"
   ]
  },
  {
   "cell_type": "code",
   "execution_count": 92,
   "metadata": {},
   "outputs": [
    {
     "name": "stdout",
     "output_type": "stream",
     "text": [
      "Best Parameters:\n",
      "{'ccp_alpha': 0, 'criterion': 'gini', 'max_depth': 6, 'max_features': 8, 'min_samples_split': 25}\n",
      "Best estimator mean cross validated training score:\n",
      "0.5739817123857025\n",
      "Best estimator score on the full training set:\n",
      "0.5749875435974091\n",
      "Best estimator score on the test set:\n",
      "0.5537848605577689\n"
     ]
    }
   ],
   "source": [
    "print('Best Parameters:')\n",
    "print(gs_dtc.best_params_)\n",
    "print('Best estimator mean cross validated training score:')\n",
    "print(gs_dtc.best_score_)\n",
    "print('Best estimator score on the full training set:')\n",
    "print(gs_dtc.score(X_train, y_train))\n",
    "print('Best estimator score on the test set:')\n",
    "print(gs_dtc.score(X_test, y_test))\n"
   ]
  },
  {
   "cell_type": "code",
   "execution_count": 142,
   "metadata": {
    "ExecuteTime": {
     "end_time": "2020-04-03T16:30:46.540504Z",
     "start_time": "2020-04-03T16:30:46.536437Z"
    }
   },
   "outputs": [],
   "source": [
    "from sklearn.ensemble import AdaBoostClassifier"
   ]
  },
  {
   "cell_type": "code",
   "execution_count": 95,
   "metadata": {},
   "outputs": [
    {
     "name": "stdout",
     "output_type": "stream",
     "text": [
      "Best estimator mean cross validated training score:\n",
      "0.5704966439622338\n",
      "Best estimator score on the full training set:\n",
      "0.5769805680119582\n",
      "Best estimator score on the test set:\n",
      "0.5677290836653387\n"
     ]
    }
   ],
   "source": [
    "ada_boost = AdaBoostClassifier(base_estimator=gs_dtc.best_estimator_,\n",
    "                           n_estimators=100,\n",
    "                           random_state=1)\n",
    "\n",
    "ada_boost.fit(X_train, y_train)\n",
    "\n",
    "\n",
    "print('Best estimator mean cross validated training score:')\n",
    "print(cross_val_score(ada_boost, X_train, y_train, cv=5).mean())\n",
    "print('Best estimator score on the full training set:')\n",
    "print(ada_boost.score(X_train, y_train))\n",
    "print('Best estimator score on the test set:')\n",
    "print(ada_boost.score(X_test, y_test))"
   ]
  },
  {
   "cell_type": "code",
   "execution_count": 128,
   "metadata": {},
   "outputs": [],
   "source": [
    "# CV of LogisticRegression with GridSearch: 0.5739779903475143\n",
    "# CV of DecisionTreeClassifier with GridSearch: 0.5739817123857025 and Boosting: 0.5704966439622338\n",
    "# Baseline accuracy: 0.5173375846950976\n",
    "\n",
    "# Despite LogisticRegression model being better than baseline and DecisionTreeClassifier, the score is not impressive"
   ]
  },
  {
   "cell_type": "markdown",
   "metadata": {},
   "source": [
    "### Categorise company and title"
   ]
  },
  {
   "cell_type": "code",
   "execution_count": 129,
   "metadata": {},
   "outputs": [
    {
     "data": {
      "text/plain": [
       "(2509, 6)"
      ]
     },
     "execution_count": 129,
     "metadata": {},
     "output_type": "execute_result"
    }
   ],
   "source": [
    "jobs.shape"
   ]
  },
  {
   "cell_type": "code",
   "execution_count": 130,
   "metadata": {},
   "outputs": [
    {
     "data": {
      "text/html": [
       "<div>\n",
       "<style scoped>\n",
       "    .dataframe tbody tr th:only-of-type {\n",
       "        vertical-align: middle;\n",
       "    }\n",
       "\n",
       "    .dataframe tbody tr th {\n",
       "        vertical-align: top;\n",
       "    }\n",
       "\n",
       "    .dataframe thead th {\n",
       "        text-align: right;\n",
       "    }\n",
       "</style>\n",
       "<table border=\"1\" class=\"dataframe\">\n",
       "  <thead>\n",
       "    <tr style=\"text-align: right;\">\n",
       "      <th></th>\n",
       "      <th>Unnamed: 0</th>\n",
       "      <th>title</th>\n",
       "      <th>company</th>\n",
       "      <th>area</th>\n",
       "      <th>salary</th>\n",
       "      <th>salary_high_low</th>\n",
       "    </tr>\n",
       "  </thead>\n",
       "  <tbody>\n",
       "    <tr>\n",
       "      <th>0</th>\n",
       "      <td>0</td>\n",
       "      <td>Treasury &amp; Asset Analyst</td>\n",
       "      <td>Nottingham Community Housing Association</td>\n",
       "      <td>Nottingham</td>\n",
       "      <td>24029.5</td>\n",
       "      <td>0</td>\n",
       "    </tr>\n",
       "    <tr>\n",
       "      <th>1</th>\n",
       "      <td>1</td>\n",
       "      <td>Data Analyst</td>\n",
       "      <td>My Talent Hub</td>\n",
       "      <td>Nottingham</td>\n",
       "      <td>25000.0</td>\n",
       "      <td>0</td>\n",
       "    </tr>\n",
       "    <tr>\n",
       "      <th>2</th>\n",
       "      <td>2</td>\n",
       "      <td>Junior Data Scientist</td>\n",
       "      <td>Oscar Technology</td>\n",
       "      <td>Nottingham</td>\n",
       "      <td>35000.0</td>\n",
       "      <td>0</td>\n",
       "    </tr>\n",
       "    <tr>\n",
       "      <th>3</th>\n",
       "      <td>3</td>\n",
       "      <td>HR Data Analyst</td>\n",
       "      <td>Derbyshire County Council</td>\n",
       "      <td>Nottingham</td>\n",
       "      <td>25977.0</td>\n",
       "      <td>0</td>\n",
       "    </tr>\n",
       "    <tr>\n",
       "      <th>4</th>\n",
       "      <td>4</td>\n",
       "      <td>111 Workforce and Performance Insight Analyst</td>\n",
       "      <td>DHU Health Care CIC</td>\n",
       "      <td>Nottingham</td>\n",
       "      <td>35000.0</td>\n",
       "      <td>0</td>\n",
       "    </tr>\n",
       "  </tbody>\n",
       "</table>\n",
       "</div>"
      ],
      "text/plain": [
       "   Unnamed: 0                                          title  \\\n",
       "0           0                       Treasury & Asset Analyst   \n",
       "1           1                                   Data Analyst   \n",
       "2           2                          Junior Data Scientist   \n",
       "3           3                                HR Data Analyst   \n",
       "4           4  111 Workforce and Performance Insight Analyst   \n",
       "\n",
       "                                    company        area   salary  \\\n",
       "0  Nottingham Community Housing Association  Nottingham  24029.5   \n",
       "1                             My Talent Hub  Nottingham  25000.0   \n",
       "2                          Oscar Technology  Nottingham  35000.0   \n",
       "3                 Derbyshire County Council  Nottingham  25977.0   \n",
       "4                       DHU Health Care CIC  Nottingham  35000.0   \n",
       "\n",
       "   salary_high_low  \n",
       "0                0  \n",
       "1                0  \n",
       "2                0  \n",
       "3                0  \n",
       "4                0  "
      ]
     },
     "execution_count": 130,
     "metadata": {},
     "output_type": "execute_result"
    }
   ],
   "source": [
    "jobs.head()"
   ]
  },
  {
   "cell_type": "code",
   "execution_count": 131,
   "metadata": {},
   "outputs": [],
   "source": [
    "# In this section I will categorise job titles and companies by key words and sector, eventually joining them into a \n",
    "# single dataframe that I will use for my predictions "
   ]
  },
  {
   "cell_type": "code",
   "execution_count": 132,
   "metadata": {},
   "outputs": [],
   "source": [
    "# These are the most common key words in job titles\n",
    "\n",
    "job_categories = ['director', 'analyst', 'scientist', 'engineer', 'business', 'consultant', 'senior', 'junior', \n",
    "                  'manager', 'officer', 'developer', 'head', 'programmer', 'executive', 'java', 'python', 'lead',\n",
    "                  'intelligence', 'machine learning', 'javascript', 'graduate', 'research', 'intern']"
   ]
  },
  {
   "cell_type": "code",
   "execution_count": 133,
   "metadata": {},
   "outputs": [],
   "source": [
    "df_categories = pd.DataFrame(columns = job_categories )"
   ]
  },
  {
   "cell_type": "code",
   "execution_count": 134,
   "metadata": {},
   "outputs": [],
   "source": [
    "for job in job_categories:\n",
    "    df_categories[job] = jobs.title.map(lambda x: 1 if job.lower() in x.lower() else 0)\n"
   ]
  },
  {
   "cell_type": "code",
   "execution_count": 135,
   "metadata": {},
   "outputs": [],
   "source": [
    "# I create a dataframe with 1 and 0 if the keyword is contained in the job title"
   ]
  },
  {
   "cell_type": "code",
   "execution_count": 136,
   "metadata": {},
   "outputs": [
    {
     "data": {
      "text/html": [
       "<div>\n",
       "<style scoped>\n",
       "    .dataframe tbody tr th:only-of-type {\n",
       "        vertical-align: middle;\n",
       "    }\n",
       "\n",
       "    .dataframe tbody tr th {\n",
       "        vertical-align: top;\n",
       "    }\n",
       "\n",
       "    .dataframe thead th {\n",
       "        text-align: right;\n",
       "    }\n",
       "</style>\n",
       "<table border=\"1\" class=\"dataframe\">\n",
       "  <thead>\n",
       "    <tr style=\"text-align: right;\">\n",
       "      <th></th>\n",
       "      <th>director</th>\n",
       "      <th>analyst</th>\n",
       "      <th>scientist</th>\n",
       "      <th>engineer</th>\n",
       "      <th>business</th>\n",
       "      <th>consultant</th>\n",
       "      <th>senior</th>\n",
       "      <th>junior</th>\n",
       "      <th>manager</th>\n",
       "      <th>officer</th>\n",
       "      <th>...</th>\n",
       "      <th>executive</th>\n",
       "      <th>java</th>\n",
       "      <th>python</th>\n",
       "      <th>lead</th>\n",
       "      <th>intelligence</th>\n",
       "      <th>machine learning</th>\n",
       "      <th>javascript</th>\n",
       "      <th>graduate</th>\n",
       "      <th>research</th>\n",
       "      <th>intern</th>\n",
       "    </tr>\n",
       "  </thead>\n",
       "  <tbody>\n",
       "    <tr>\n",
       "      <th>0</th>\n",
       "      <td>0</td>\n",
       "      <td>1</td>\n",
       "      <td>0</td>\n",
       "      <td>0</td>\n",
       "      <td>0</td>\n",
       "      <td>0</td>\n",
       "      <td>0</td>\n",
       "      <td>0</td>\n",
       "      <td>0</td>\n",
       "      <td>0</td>\n",
       "      <td>...</td>\n",
       "      <td>0</td>\n",
       "      <td>0</td>\n",
       "      <td>0</td>\n",
       "      <td>0</td>\n",
       "      <td>0</td>\n",
       "      <td>0</td>\n",
       "      <td>0</td>\n",
       "      <td>0</td>\n",
       "      <td>0</td>\n",
       "      <td>0</td>\n",
       "    </tr>\n",
       "    <tr>\n",
       "      <th>1</th>\n",
       "      <td>0</td>\n",
       "      <td>1</td>\n",
       "      <td>0</td>\n",
       "      <td>0</td>\n",
       "      <td>0</td>\n",
       "      <td>0</td>\n",
       "      <td>0</td>\n",
       "      <td>0</td>\n",
       "      <td>0</td>\n",
       "      <td>0</td>\n",
       "      <td>...</td>\n",
       "      <td>0</td>\n",
       "      <td>0</td>\n",
       "      <td>0</td>\n",
       "      <td>0</td>\n",
       "      <td>0</td>\n",
       "      <td>0</td>\n",
       "      <td>0</td>\n",
       "      <td>0</td>\n",
       "      <td>0</td>\n",
       "      <td>0</td>\n",
       "    </tr>\n",
       "    <tr>\n",
       "      <th>2</th>\n",
       "      <td>0</td>\n",
       "      <td>0</td>\n",
       "      <td>1</td>\n",
       "      <td>0</td>\n",
       "      <td>0</td>\n",
       "      <td>0</td>\n",
       "      <td>0</td>\n",
       "      <td>1</td>\n",
       "      <td>0</td>\n",
       "      <td>0</td>\n",
       "      <td>...</td>\n",
       "      <td>0</td>\n",
       "      <td>0</td>\n",
       "      <td>0</td>\n",
       "      <td>0</td>\n",
       "      <td>0</td>\n",
       "      <td>0</td>\n",
       "      <td>0</td>\n",
       "      <td>0</td>\n",
       "      <td>0</td>\n",
       "      <td>0</td>\n",
       "    </tr>\n",
       "    <tr>\n",
       "      <th>3</th>\n",
       "      <td>0</td>\n",
       "      <td>1</td>\n",
       "      <td>0</td>\n",
       "      <td>0</td>\n",
       "      <td>0</td>\n",
       "      <td>0</td>\n",
       "      <td>0</td>\n",
       "      <td>0</td>\n",
       "      <td>0</td>\n",
       "      <td>0</td>\n",
       "      <td>...</td>\n",
       "      <td>0</td>\n",
       "      <td>0</td>\n",
       "      <td>0</td>\n",
       "      <td>0</td>\n",
       "      <td>0</td>\n",
       "      <td>0</td>\n",
       "      <td>0</td>\n",
       "      <td>0</td>\n",
       "      <td>0</td>\n",
       "      <td>0</td>\n",
       "    </tr>\n",
       "    <tr>\n",
       "      <th>4</th>\n",
       "      <td>0</td>\n",
       "      <td>1</td>\n",
       "      <td>0</td>\n",
       "      <td>0</td>\n",
       "      <td>0</td>\n",
       "      <td>0</td>\n",
       "      <td>0</td>\n",
       "      <td>0</td>\n",
       "      <td>0</td>\n",
       "      <td>0</td>\n",
       "      <td>...</td>\n",
       "      <td>0</td>\n",
       "      <td>0</td>\n",
       "      <td>0</td>\n",
       "      <td>0</td>\n",
       "      <td>0</td>\n",
       "      <td>0</td>\n",
       "      <td>0</td>\n",
       "      <td>0</td>\n",
       "      <td>0</td>\n",
       "      <td>0</td>\n",
       "    </tr>\n",
       "  </tbody>\n",
       "</table>\n",
       "<p>5 rows × 23 columns</p>\n",
       "</div>"
      ],
      "text/plain": [
       "   director  analyst  scientist  engineer  business  consultant  senior  \\\n",
       "0         0        1          0         0         0           0       0   \n",
       "1         0        1          0         0         0           0       0   \n",
       "2         0        0          1         0         0           0       0   \n",
       "3         0        1          0         0         0           0       0   \n",
       "4         0        1          0         0         0           0       0   \n",
       "\n",
       "   junior  manager  officer  ...  executive  java  python  lead  intelligence  \\\n",
       "0       0        0        0  ...          0     0       0     0             0   \n",
       "1       0        0        0  ...          0     0       0     0             0   \n",
       "2       1        0        0  ...          0     0       0     0             0   \n",
       "3       0        0        0  ...          0     0       0     0             0   \n",
       "4       0        0        0  ...          0     0       0     0             0   \n",
       "\n",
       "   machine learning  javascript  graduate  research  intern  \n",
       "0                 0           0         0         0       0  \n",
       "1                 0           0         0         0       0  \n",
       "2                 0           0         0         0       0  \n",
       "3                 0           0         0         0       0  \n",
       "4                 0           0         0         0       0  \n",
       "\n",
       "[5 rows x 23 columns]"
      ]
     },
     "execution_count": 136,
     "metadata": {},
     "output_type": "execute_result"
    }
   ],
   "source": [
    "df_categories.head()"
   ]
  },
  {
   "cell_type": "code",
   "execution_count": 137,
   "metadata": {},
   "outputs": [
    {
     "data": {
      "text/plain": [
       "(2509, 23)"
      ]
     },
     "execution_count": 137,
     "metadata": {},
     "output_type": "execute_result"
    }
   ],
   "source": [
    "df_categories.shape"
   ]
  },
  {
   "cell_type": "code",
   "execution_count": 138,
   "metadata": {},
   "outputs": [],
   "source": [
    "# the keywords are not evenly distributed but could still be helpful for predictions"
   ]
  },
  {
   "cell_type": "code",
   "execution_count": 139,
   "metadata": {},
   "outputs": [
    {
     "data": {
      "image/png": "[encoded data removed]",
      "text/plain": [
       "<Figure size 432x288 with 1 Axes>"
      ]
     },
     "metadata": {
      "needs_background": "light"
     },
     "output_type": "display_data"
    }
   ],
   "source": [
    "df_categories.sum().plot(kind = 'bar');"
   ]
  },
  {
   "cell_type": "code",
   "execution_count": 140,
   "metadata": {},
   "outputs": [],
   "source": [
    "# these are the main job sectors that I spotted in the company names, unfortunaly here is harder to generalise to \n",
    "# categories"
   ]
  },
  {
   "cell_type": "code",
   "execution_count": 141,
   "metadata": {},
   "outputs": [],
   "source": [
    "job_sectors = {'recruitment': ['Harnham','Ampersand', 'VANRATH', 'Page', 'ECM', 'Selection', 'Recruitment',\n",
    "                              'Recruit', 'Client', 'Ronald', 'MBN', 'myfuturerole.com', 'Oscar',\n",
    "                              'Modis'],\n",
    "              'healthcare': ['Healthcare', 'Health', 'NHS', 'Hospital', 'Patient', 'Medicine', 'Medical'],\n",
    "              'government': ['Government', 'Ministry', 'Public', 'National', 'BBC', 'STFC', 'HM'],\n",
    "              'banking': ['Bank','Finance'],\n",
    "              'consulting': ['Consulting','Consultancy'],\n",
    "              'energy': ['Energy', 'Gas', 'Utilities'],\n",
    "              'education': ['College', 'School', 'University']}\n",
    "\n"
   ]
  },
  {
   "cell_type": "code",
   "execution_count": 142,
   "metadata": {},
   "outputs": [],
   "source": [
    "df_sector = pd.DataFrame(columns = job_sectors.keys())"
   ]
  },
  {
   "cell_type": "code",
   "execution_count": 143,
   "metadata": {},
   "outputs": [],
   "source": [
    "for sector in df_sector:\n",
    "    df_sector[sector] = jobs.company.map(lambda x:1 if any(i in job_sectors[sector] for i in x.split(' ')) else 0)"
   ]
  },
  {
   "cell_type": "code",
   "execution_count": 144,
   "metadata": {},
   "outputs": [
    {
     "data": {
      "text/html": [
       "<div>\n",
       "<style scoped>\n",
       "    .dataframe tbody tr th:only-of-type {\n",
       "        vertical-align: middle;\n",
       "    }\n",
       "\n",
       "    .dataframe tbody tr th {\n",
       "        vertical-align: top;\n",
       "    }\n",
       "\n",
       "    .dataframe thead th {\n",
       "        text-align: right;\n",
       "    }\n",
       "</style>\n",
       "<table border=\"1\" class=\"dataframe\">\n",
       "  <thead>\n",
       "    <tr style=\"text-align: right;\">\n",
       "      <th></th>\n",
       "      <th>recruitment</th>\n",
       "      <th>healthcare</th>\n",
       "      <th>government</th>\n",
       "      <th>banking</th>\n",
       "      <th>consulting</th>\n",
       "      <th>energy</th>\n",
       "      <th>education</th>\n",
       "    </tr>\n",
       "  </thead>\n",
       "  <tbody>\n",
       "    <tr>\n",
       "      <th>0</th>\n",
       "      <td>0</td>\n",
       "      <td>0</td>\n",
       "      <td>0</td>\n",
       "      <td>0</td>\n",
       "      <td>0</td>\n",
       "      <td>0</td>\n",
       "      <td>0</td>\n",
       "    </tr>\n",
       "    <tr>\n",
       "      <th>1</th>\n",
       "      <td>0</td>\n",
       "      <td>0</td>\n",
       "      <td>0</td>\n",
       "      <td>0</td>\n",
       "      <td>0</td>\n",
       "      <td>0</td>\n",
       "      <td>0</td>\n",
       "    </tr>\n",
       "    <tr>\n",
       "      <th>2</th>\n",
       "      <td>1</td>\n",
       "      <td>0</td>\n",
       "      <td>0</td>\n",
       "      <td>0</td>\n",
       "      <td>0</td>\n",
       "      <td>0</td>\n",
       "      <td>0</td>\n",
       "    </tr>\n",
       "    <tr>\n",
       "      <th>3</th>\n",
       "      <td>0</td>\n",
       "      <td>0</td>\n",
       "      <td>0</td>\n",
       "      <td>0</td>\n",
       "      <td>0</td>\n",
       "      <td>0</td>\n",
       "      <td>0</td>\n",
       "    </tr>\n",
       "    <tr>\n",
       "      <th>4</th>\n",
       "      <td>0</td>\n",
       "      <td>1</td>\n",
       "      <td>0</td>\n",
       "      <td>0</td>\n",
       "      <td>0</td>\n",
       "      <td>0</td>\n",
       "      <td>0</td>\n",
       "    </tr>\n",
       "  </tbody>\n",
       "</table>\n",
       "</div>"
      ],
      "text/plain": [
       "   recruitment  healthcare  government  banking  consulting  energy  education\n",
       "0            0           0           0        0           0       0          0\n",
       "1            0           0           0        0           0       0          0\n",
       "2            1           0           0        0           0       0          0\n",
       "3            0           0           0        0           0       0          0\n",
       "4            0           1           0        0           0       0          0"
      ]
     },
     "execution_count": 144,
     "metadata": {},
     "output_type": "execute_result"
    }
   ],
   "source": [
    "df_sector.head()"
   ]
  },
  {
   "cell_type": "code",
   "execution_count": 145,
   "metadata": {},
   "outputs": [
    {
     "data": {
      "text/plain": [
       "(2509, 7)"
      ]
     },
     "execution_count": 145,
     "metadata": {},
     "output_type": "execute_result"
    }
   ],
   "source": [
    "df_sector.shape"
   ]
  },
  {
   "cell_type": "code",
   "execution_count": 146,
   "metadata": {},
   "outputs": [],
   "source": [
    "# the dataframe of job sectors is highly unbalanced because mainly recruitment companies choose to advertise the \n",
    "# salary in the job posting\n",
    "\n",
    "# since jobs posted by recruitment companies can be in very different sectors, this dataframe might not be very \n",
    "# helpful in predicting salary"
   ]
  },
  {
   "cell_type": "code",
   "execution_count": 147,
   "metadata": {},
   "outputs": [
    {
     "data": {
      "image/png": "[encoded data removed]",
      "text/plain": [
       "<Figure size 432x288 with 1 Axes>"
      ]
     },
     "metadata": {
      "needs_background": "light"
     },
     "output_type": "display_data"
    }
   ],
   "source": [
    "df_sector.sum().plot(kind = 'bar');"
   ]
  },
  {
   "cell_type": "code",
   "execution_count": 148,
   "metadata": {},
   "outputs": [],
   "source": [
    "final_jobs = pd.concat([jobs[['salary_high_low']],X, df_sector, df_categories], axis = 1 )"
   ]
  },
  {
   "cell_type": "code",
   "execution_count": 149,
   "metadata": {},
   "outputs": [
    {
     "data": {
      "text/html": [
       "<div>\n",
       "<style scoped>\n",
       "    .dataframe tbody tr th:only-of-type {\n",
       "        vertical-align: middle;\n",
       "    }\n",
       "\n",
       "    .dataframe tbody tr th {\n",
       "        vertical-align: top;\n",
       "    }\n",
       "\n",
       "    .dataframe thead th {\n",
       "        text-align: right;\n",
       "    }\n",
       "</style>\n",
       "<table border=\"1\" class=\"dataframe\">\n",
       "  <thead>\n",
       "    <tr style=\"text-align: right;\">\n",
       "      <th></th>\n",
       "      <th>salary_high_low</th>\n",
       "      <th>Belfast</th>\n",
       "      <th>Birmingham</th>\n",
       "      <th>Bristol</th>\n",
       "      <th>Cambridge</th>\n",
       "      <th>Edinburgh</th>\n",
       "      <th>Glasgow</th>\n",
       "      <th>Leeds</th>\n",
       "      <th>London</th>\n",
       "      <th>Manchester</th>\n",
       "      <th>...</th>\n",
       "      <th>executive</th>\n",
       "      <th>java</th>\n",
       "      <th>python</th>\n",
       "      <th>lead</th>\n",
       "      <th>intelligence</th>\n",
       "      <th>machine learning</th>\n",
       "      <th>javascript</th>\n",
       "      <th>graduate</th>\n",
       "      <th>research</th>\n",
       "      <th>intern</th>\n",
       "    </tr>\n",
       "  </thead>\n",
       "  <tbody>\n",
       "    <tr>\n",
       "      <th>0</th>\n",
       "      <td>0</td>\n",
       "      <td>0</td>\n",
       "      <td>0</td>\n",
       "      <td>0</td>\n",
       "      <td>0</td>\n",
       "      <td>0</td>\n",
       "      <td>0</td>\n",
       "      <td>0</td>\n",
       "      <td>0</td>\n",
       "      <td>0</td>\n",
       "      <td>...</td>\n",
       "      <td>0</td>\n",
       "      <td>0</td>\n",
       "      <td>0</td>\n",
       "      <td>0</td>\n",
       "      <td>0</td>\n",
       "      <td>0</td>\n",
       "      <td>0</td>\n",
       "      <td>0</td>\n",
       "      <td>0</td>\n",
       "      <td>0</td>\n",
       "    </tr>\n",
       "    <tr>\n",
       "      <th>1</th>\n",
       "      <td>0</td>\n",
       "      <td>0</td>\n",
       "      <td>0</td>\n",
       "      <td>0</td>\n",
       "      <td>0</td>\n",
       "      <td>0</td>\n",
       "      <td>0</td>\n",
       "      <td>0</td>\n",
       "      <td>0</td>\n",
       "      <td>0</td>\n",
       "      <td>...</td>\n",
       "      <td>0</td>\n",
       "      <td>0</td>\n",
       "      <td>0</td>\n",
       "      <td>0</td>\n",
       "      <td>0</td>\n",
       "      <td>0</td>\n",
       "      <td>0</td>\n",
       "      <td>0</td>\n",
       "      <td>0</td>\n",
       "      <td>0</td>\n",
       "    </tr>\n",
       "    <tr>\n",
       "      <th>2</th>\n",
       "      <td>0</td>\n",
       "      <td>0</td>\n",
       "      <td>0</td>\n",
       "      <td>0</td>\n",
       "      <td>0</td>\n",
       "      <td>0</td>\n",
       "      <td>0</td>\n",
       "      <td>0</td>\n",
       "      <td>0</td>\n",
       "      <td>0</td>\n",
       "      <td>...</td>\n",
       "      <td>0</td>\n",
       "      <td>0</td>\n",
       "      <td>0</td>\n",
       "      <td>0</td>\n",
       "      <td>0</td>\n",
       "      <td>0</td>\n",
       "      <td>0</td>\n",
       "      <td>0</td>\n",
       "      <td>0</td>\n",
       "      <td>0</td>\n",
       "    </tr>\n",
       "    <tr>\n",
       "      <th>3</th>\n",
       "      <td>0</td>\n",
       "      <td>0</td>\n",
       "      <td>0</td>\n",
       "      <td>0</td>\n",
       "      <td>0</td>\n",
       "      <td>0</td>\n",
       "      <td>0</td>\n",
       "      <td>0</td>\n",
       "      <td>0</td>\n",
       "      <td>0</td>\n",
       "      <td>...</td>\n",
       "      <td>0</td>\n",
       "      <td>0</td>\n",
       "      <td>0</td>\n",
       "      <td>0</td>\n",
       "      <td>0</td>\n",
       "      <td>0</td>\n",
       "      <td>0</td>\n",
       "      <td>0</td>\n",
       "      <td>0</td>\n",
       "      <td>0</td>\n",
       "    </tr>\n",
       "    <tr>\n",
       "      <th>4</th>\n",
       "      <td>0</td>\n",
       "      <td>0</td>\n",
       "      <td>0</td>\n",
       "      <td>0</td>\n",
       "      <td>0</td>\n",
       "      <td>0</td>\n",
       "      <td>0</td>\n",
       "      <td>0</td>\n",
       "      <td>0</td>\n",
       "      <td>0</td>\n",
       "      <td>...</td>\n",
       "      <td>0</td>\n",
       "      <td>0</td>\n",
       "      <td>0</td>\n",
       "      <td>0</td>\n",
       "      <td>0</td>\n",
       "      <td>0</td>\n",
       "      <td>0</td>\n",
       "      <td>0</td>\n",
       "      <td>0</td>\n",
       "      <td>0</td>\n",
       "    </tr>\n",
       "  </tbody>\n",
       "</table>\n",
       "<p>5 rows × 44 columns</p>\n",
       "</div>"
      ],
      "text/plain": [
       "   salary_high_low  Belfast  Birmingham  Bristol  Cambridge  Edinburgh  \\\n",
       "0                0        0           0        0          0          0   \n",
       "1                0        0           0        0          0          0   \n",
       "2                0        0           0        0          0          0   \n",
       "3                0        0           0        0          0          0   \n",
       "4                0        0           0        0          0          0   \n",
       "\n",
       "   Glasgow  Leeds  London  Manchester  ...  executive  java  python  lead  \\\n",
       "0        0      0       0           0  ...          0     0       0     0   \n",
       "1        0      0       0           0  ...          0     0       0     0   \n",
       "2        0      0       0           0  ...          0     0       0     0   \n",
       "3        0      0       0           0  ...          0     0       0     0   \n",
       "4        0      0       0           0  ...          0     0       0     0   \n",
       "\n",
       "   intelligence  machine learning  javascript  graduate  research  intern  \n",
       "0             0                 0           0         0         0       0  \n",
       "1             0                 0           0         0         0       0  \n",
       "2             0                 0           0         0         0       0  \n",
       "3             0                 0           0         0         0       0  \n",
       "4             0                 0           0         0         0       0  \n",
       "\n",
       "[5 rows x 44 columns]"
      ]
     },
     "execution_count": 149,
     "metadata": {},
     "output_type": "execute_result"
    }
   ],
   "source": [
    "final_jobs.head()"
   ]
  },
  {
   "cell_type": "code",
   "execution_count": 150,
   "metadata": {},
   "outputs": [
    {
     "data": {
      "text/plain": [
       "Index(['salary_high_low', 'Belfast', 'Birmingham', 'Bristol', 'Cambridge',\n",
       "       'Edinburgh', 'Glasgow', 'Leeds', 'London', 'Manchester', 'Newcastle',\n",
       "       'Nottingham', 'Oxford', 'Reading', 'recruitment', 'healthcare',\n",
       "       'government', 'banking', 'consulting', 'energy', 'education',\n",
       "       'director', 'analyst', 'scientist', 'engineer', 'business',\n",
       "       'consultant', 'senior', 'junior', 'manager', 'officer', 'developer',\n",
       "       'head', 'programmer', 'executive', 'java', 'python', 'lead',\n",
       "       'intelligence', 'machine learning', 'javascript', 'graduate',\n",
       "       'research', 'intern'],\n",
       "      dtype='object')"
      ]
     },
     "execution_count": 150,
     "metadata": {},
     "output_type": "execute_result"
    }
   ],
   "source": [
    "final_jobs.columns"
   ]
  },
  {
   "cell_type": "code",
   "execution_count": null,
   "metadata": {},
   "outputs": [],
   "source": [
    "final_jobs.to_csv(\"indeed_final.csv\", index = False)"
   ]
  },
  {
   "cell_type": "markdown",
   "metadata": {
    "heading_collapsed": true
   },
   "source": [
    "### Multi-feature modelling with Logistic Regression"
   ]
  },
  {
   "cell_type": "code",
   "execution_count": 6,
   "metadata": {
    "ExecuteTime": {
     "end_time": "2020-04-07T14:45:43.344198Z",
     "start_time": "2020-04-07T14:45:43.297832Z"
    },
    "hidden": true
   },
   "outputs": [],
   "source": [
    "final_jobs = pd.read_csv(\"indeed_final.csv\")"
   ]
  },
  {
   "cell_type": "code",
   "execution_count": 9,
   "metadata": {
    "ExecuteTime": {
     "end_time": "2020-04-07T14:45:53.898513Z",
     "start_time": "2020-04-07T14:45:53.893299Z"
    },
    "hidden": true
   },
   "outputs": [],
   "source": [
    "y = final_jobs.salary_high_low"
   ]
  },
  {
   "cell_type": "code",
   "execution_count": 10,
   "metadata": {
    "ExecuteTime": {
     "end_time": "2020-04-07T14:45:54.744839Z",
     "start_time": "2020-04-07T14:45:54.736239Z"
    },
    "hidden": true
   },
   "outputs": [],
   "source": [
    "X = final_jobs.drop('salary_high_low', axis = 1)"
   ]
  },
  {
   "cell_type": "code",
   "execution_count": 11,
   "metadata": {
    "ExecuteTime": {
     "end_time": "2020-04-07T14:46:46.684320Z",
     "start_time": "2020-04-07T14:46:46.678113Z"
    },
    "hidden": true
   },
   "outputs": [],
   "source": [
    "from scipy import sparse"
   ]
  },
  {
   "cell_type": "code",
   "execution_count": 12,
   "metadata": {
    "ExecuteTime": {
     "end_time": "2020-04-07T14:46:47.772373Z",
     "start_time": "2020-04-07T14:46:47.756851Z"
    },
    "hidden": true
   },
   "outputs": [],
   "source": [
    "matrix = sparse.csr_matrix(X.values)"
   ]
  },
  {
   "cell_type": "code",
   "execution_count": 13,
   "metadata": {
    "ExecuteTime": {
     "end_time": "2020-04-07T14:46:48.731859Z",
     "start_time": "2020-04-07T14:46:48.716924Z"
    },
    "hidden": true
   },
   "outputs": [],
   "source": [
    "X_train, X_test, y_train, y_test = train_test_split(matrix, y, stratify=y, test_size=0.2, random_state=1)"
   ]
  },
  {
   "cell_type": "code",
   "execution_count": 20,
   "metadata": {
    "ExecuteTime": {
     "end_time": "2020-04-03T12:50:25.879114Z",
     "start_time": "2020-04-03T12:50:25.867159Z"
    },
    "hidden": true
   },
   "outputs": [],
   "source": [
    "# set up grid search with logistic regression model\n",
    "\n",
    "lr = LogisticRegression()\n",
    "\n",
    "lr_params = {'C': np.logspace(-4, 4, 10),\n",
    "          'penalty': ['l1', 'l2'],\n",
    "          'fit_intercept': [True, False],\n",
    "          'solver': ['liblinear','lbfgs', 'saga']}\n",
    "\n",
    "gs_lr = GridSearchCV(estimator=lr,\n",
    "                     param_grid=lr_params,\n",
    "                     cv=5,\n",
    "                     verbose = 1,\n",
    "                    n_jobs = 2)\n",
    "\n"
   ]
  },
  {
   "cell_type": "code",
   "execution_count": 21,
   "metadata": {
    "ExecuteTime": {
     "end_time": "2020-04-03T12:50:44.450106Z",
     "start_time": "2020-04-03T12:50:34.415094Z"
    },
    "hidden": true
   },
   "outputs": [
    {
     "name": "stdout",
     "output_type": "stream",
     "text": [
      "Fitting 5 folds for each of 120 candidates, totalling 600 fits\n"
     ]
    },
    {
     "name": "stderr",
     "output_type": "stream",
     "text": [
      "[Parallel(n_jobs=2)]: Using backend LokyBackend with 2 concurrent workers.\n",
      "[Parallel(n_jobs=2)]: Done 274 tasks      | elapsed:    4.9s\n",
      "[Parallel(n_jobs=2)]: Done 600 out of 600 | elapsed:   10.0s finished\n"
     ]
    },
    {
     "data": {
      "text/plain": [
       "GridSearchCV(cv=5, error_score=nan,\n",
       "             estimator=LogisticRegression(C=1.0, class_weight=None, dual=False,\n",
       "                                          fit_intercept=True,\n",
       "                                          intercept_scaling=1, l1_ratio=None,\n",
       "                                          max_iter=100, multi_class='auto',\n",
       "                                          n_jobs=None, penalty='l2',\n",
       "                                          random_state=None, solver='lbfgs',\n",
       "                                          tol=0.0001, verbose=0,\n",
       "                                          warm_start=False),\n",
       "             iid='deprecated', n_jobs=2,\n",
       "             param_grid={'C': array([1.00000000e-04, 7.74263683e-04, 5.99484250e-03, 4.64158883e-02,\n",
       "       3.59381366e-01, 2.78255940e+00, 2.15443469e+01, 1.66810054e+02,\n",
       "       1.29154967e+03, 1.00000000e+04]),\n",
       "                         'fit_intercept': [True, False],\n",
       "                         'penalty': ['l1', 'l2'],\n",
       "                         'solver': ['liblinear', 'lbfgs', 'saga']},\n",
       "             pre_dispatch='2*n_jobs', refit=True, return_train_score=False,\n",
       "             scoring=None, verbose=1)"
      ]
     },
     "execution_count": 21,
     "metadata": {},
     "output_type": "execute_result"
    }
   ],
   "source": [
    "gs_lr.fit(X_train,y_train)"
   ]
  },
  {
   "cell_type": "code",
   "execution_count": 22,
   "metadata": {
    "ExecuteTime": {
     "end_time": "2020-04-03T12:51:02.342216Z",
     "start_time": "2020-04-03T12:51:02.324350Z"
    },
    "hidden": true
   },
   "outputs": [
    {
     "name": "stdout",
     "output_type": "stream",
     "text": [
      "Best Parameters:\n",
      "{'C': 21.54434690031882, 'fit_intercept': True, 'penalty': 'l1', 'solver': 'liblinear'}\n",
      "Best estimator C:\n",
      "21.54434690031882\n",
      "Best estimator mean cross validated training score:\n",
      "0.6940484609372093\n",
      "Best estimator score on the full training set:\n",
      "0.7090184354758345\n",
      "Best estimator score on the test set:\n",
      "0.7231075697211156\n",
      "Best estimator coefficients:\n",
      "[[ 0.31335816  0.11041189  0.67577599  1.12497667  0.87709198  0.61254201\n",
      "   0.13979896  1.61008448  0.20586985 -0.07126146 -0.08260684  0.48437057\n",
      "   0.362041    0.24918159 -0.74644832 -0.33531799  4.2641748   0.02231927\n",
      "  -0.73423003  0.19675224  4.97013494 -0.20637308  0.80109203  1.03858657\n",
      "   1.3887174   0.79858404  1.55165584 -1.7291579   1.38160849  0.24301818\n",
      "   1.58083331  2.97307378  0.71768575 -0.4483977   1.92319705  0.49704113\n",
      "   2.22138549 -0.64188981  2.37608757  0.80729377 -2.6969711  -1.09202887\n",
      "  -5.06558809]]\n"
     ]
    }
   ],
   "source": [
    "# extract the grid search results\n",
    "\n",
    "print('Best Parameters:')\n",
    "print(gs_lr.best_params_)\n",
    "print('Best estimator C:')\n",
    "print(gs_lr.best_estimator_.C)\n",
    "print('Best estimator mean cross validated training score:')\n",
    "print(gs_lr.best_score_)\n",
    "print('Best estimator score on the full training set:')\n",
    "print(gs_lr.score(X_train, y_train))\n",
    "print('Best estimator score on the test set:')\n",
    "print(gs_lr.score(X_test, y_test))\n",
    "print('Best estimator coefficients:')\n",
    "print(gs_lr.best_estimator_.coef_)"
   ]
  },
  {
   "cell_type": "code",
   "execution_count": 131,
   "metadata": {
    "ExecuteTime": {
     "end_time": "2020-04-03T15:39:21.931451Z",
     "start_time": "2020-04-03T15:39:21.163804Z"
    },
    "hidden": true
   },
   "outputs": [
    {
     "data": {
      "image/png": "[encoded data removed]",
      "text/plain": [
       "<Figure size 1080x1080 with 1 Axes>"
      ]
     },
     "metadata": {
      "needs_background": "light"
     },
     "output_type": "display_data"
    }
   ],
   "source": [
    "coeff_df = pd.DataFrame(gs_lr.best_estimator_.coef_, columns = [X.columns], index = ['Coefficients']).T.sort_values('Coefficients', ascending = False)\n",
    "\n",
    "fig,ax= plt.subplots(figsize=(15,15))\n",
    "sns.barplot(y=coeff_df.index, x=coeff_df.Coefficients, orient='h', palette='coolwarm',ax=ax);"
   ]
  },
  {
   "cell_type": "code",
   "execution_count": 24,
   "metadata": {
    "ExecuteTime": {
     "end_time": "2020-04-03T12:51:14.652820Z",
     "start_time": "2020-04-03T12:51:14.626104Z"
    },
    "hidden": true
   },
   "outputs": [],
   "source": [
    "predictions = gs_lr.best_estimator_.predict(X_test)"
   ]
  },
  {
   "cell_type": "code",
   "execution_count": 21,
   "metadata": {
    "ExecuteTime": {
     "end_time": "2020-04-07T14:54:43.473441Z",
     "start_time": "2020-04-07T14:54:43.468852Z"
    },
    "hidden": true
   },
   "outputs": [],
   "source": [
    "from sklearn.metrics import confusion_matrix, accuracy_score, precision_score, recall_score, f1_score, fbeta_score, classification_report\n"
   ]
  },
  {
   "cell_type": "code",
   "execution_count": 101,
   "metadata": {
    "ExecuteTime": {
     "end_time": "2020-04-03T15:32:40.149249Z",
     "start_time": "2020-04-03T15:32:40.083228Z"
    },
    "hidden": true
   },
   "outputs": [
    {
     "data": {
      "text/html": [
       "<div>\n",
       "<style scoped>\n",
       "    .dataframe tbody tr th:only-of-type {\n",
       "        vertical-align: middle;\n",
       "    }\n",
       "\n",
       "    .dataframe tbody tr th {\n",
       "        vertical-align: top;\n",
       "    }\n",
       "\n",
       "    .dataframe thead th {\n",
       "        text-align: right;\n",
       "    }\n",
       "</style>\n",
       "<table border=\"1\" class=\"dataframe\">\n",
       "  <thead>\n",
       "    <tr style=\"text-align: right;\">\n",
       "      <th></th>\n",
       "      <th>predicted LOW</th>\n",
       "      <th>predicted HIGH</th>\n",
       "    </tr>\n",
       "  </thead>\n",
       "  <tbody>\n",
       "    <tr>\n",
       "      <th>actual LOW</th>\n",
       "      <td>161</td>\n",
       "      <td>81</td>\n",
       "    </tr>\n",
       "    <tr>\n",
       "      <th>actual HIGH</th>\n",
       "      <td>58</td>\n",
       "      <td>202</td>\n",
       "    </tr>\n",
       "  </tbody>\n",
       "</table>\n",
       "</div>"
      ],
      "text/plain": [
       "             predicted LOW  predicted HIGH\n",
       "actual LOW             161              81\n",
       "actual HIGH             58             202"
      ]
     },
     "execution_count": 101,
     "metadata": {},
     "output_type": "execute_result"
    }
   ],
   "source": [
    "pd.DataFrame(confusion_matrix(y_test, predictions), index = ['actual LOW', 'actual HIGH'], \n",
    "             columns = ['predicted LOW', 'predicted HIGH'])"
   ]
  },
  {
   "cell_type": "code",
   "execution_count": 103,
   "metadata": {
    "ExecuteTime": {
     "end_time": "2020-04-03T15:32:42.113530Z",
     "start_time": "2020-04-03T15:32:42.076737Z"
    },
    "hidden": true
   },
   "outputs": [
    {
     "data": {
      "text/html": [
       "<div>\n",
       "<style scoped>\n",
       "    .dataframe tbody tr th:only-of-type {\n",
       "        vertical-align: middle;\n",
       "    }\n",
       "\n",
       "    .dataframe tbody tr th {\n",
       "        vertical-align: top;\n",
       "    }\n",
       "\n",
       "    .dataframe thead th {\n",
       "        text-align: right;\n",
       "    }\n",
       "</style>\n",
       "<table border=\"1\" class=\"dataframe\">\n",
       "  <thead>\n",
       "    <tr style=\"text-align: right;\">\n",
       "      <th></th>\n",
       "      <th>scores</th>\n",
       "    </tr>\n",
       "  </thead>\n",
       "  <tbody>\n",
       "    <tr>\n",
       "      <th>accuracy</th>\n",
       "      <td>0.723108</td>\n",
       "    </tr>\n",
       "    <tr>\n",
       "      <th>precision</th>\n",
       "      <td>0.713781</td>\n",
       "    </tr>\n",
       "    <tr>\n",
       "      <th>recall</th>\n",
       "      <td>0.776923</td>\n",
       "    </tr>\n",
       "    <tr>\n",
       "      <th>f1</th>\n",
       "      <td>0.744015</td>\n",
       "    </tr>\n",
       "  </tbody>\n",
       "</table>\n",
       "</div>"
      ],
      "text/plain": [
       "             scores\n",
       "accuracy   0.723108\n",
       "precision  0.713781\n",
       "recall     0.776923\n",
       "f1         0.744015"
      ]
     },
     "execution_count": 103,
     "metadata": {},
     "output_type": "execute_result"
    }
   ],
   "source": [
    "pd.DataFrame([accuracy_score(y_test, predictions), precision_score(y_test, predictions),\n",
    "              recall_score(y_test, predictions), f1_score(y_test, predictions)], columns = ['scores'], \n",
    "             index = ['accuracy','precision', 'recall', 'f1'])"
   ]
  },
  {
   "cell_type": "code",
   "execution_count": 104,
   "metadata": {
    "ExecuteTime": {
     "end_time": "2020-04-03T15:32:42.992451Z",
     "start_time": "2020-04-03T15:32:42.987642Z"
    },
    "hidden": true
   },
   "outputs": [],
   "source": [
    "# as we'd rather predict wrongly a lower salary than telling a client that they'll get a high salary when they are\n",
    "# not, we want to decrease the number of false positives (81), and improve the precision score by setting a \n",
    "# higher threshold"
   ]
  },
  {
   "cell_type": "code",
   "execution_count": 105,
   "metadata": {
    "ExecuteTime": {
     "end_time": "2020-04-03T15:32:43.932899Z",
     "start_time": "2020-04-03T15:32:43.831249Z"
    },
    "hidden": true
   },
   "outputs": [
    {
     "name": "stdout",
     "output_type": "stream",
     "text": [
      "              precision    recall  f1-score   support\n",
      "\n",
      "           0       0.74      0.67      0.70       242\n",
      "           1       0.71      0.78      0.74       260\n",
      "\n",
      "    accuracy                           0.72       502\n",
      "   macro avg       0.72      0.72      0.72       502\n",
      "weighted avg       0.72      0.72      0.72       502\n",
      "\n"
     ]
    }
   ],
   "source": [
    "print(classification_report(y_test, predictions))"
   ]
  },
  {
   "cell_type": "code",
   "execution_count": 106,
   "metadata": {
    "ExecuteTime": {
     "end_time": "2020-04-03T15:32:44.927537Z",
     "start_time": "2020-04-03T15:32:44.880818Z"
    },
    "hidden": true
   },
   "outputs": [
    {
     "data": {
      "text/html": [
       "<div>\n",
       "<style scoped>\n",
       "    .dataframe tbody tr th:only-of-type {\n",
       "        vertical-align: middle;\n",
       "    }\n",
       "\n",
       "    .dataframe tbody tr th {\n",
       "        vertical-align: top;\n",
       "    }\n",
       "\n",
       "    .dataframe thead th {\n",
       "        text-align: right;\n",
       "    }\n",
       "</style>\n",
       "<table border=\"1\" class=\"dataframe\">\n",
       "  <thead>\n",
       "    <tr style=\"text-align: right;\">\n",
       "      <th></th>\n",
       "      <th>actual</th>\n",
       "      <th>predicted</th>\n",
       "      <th>probability_HIGH</th>\n",
       "    </tr>\n",
       "  </thead>\n",
       "  <tbody>\n",
       "    <tr>\n",
       "      <th>625</th>\n",
       "      <td>1</td>\n",
       "      <td>1</td>\n",
       "      <td>0.523262</td>\n",
       "    </tr>\n",
       "    <tr>\n",
       "      <th>1402</th>\n",
       "      <td>0</td>\n",
       "      <td>0</td>\n",
       "      <td>0.204612</td>\n",
       "    </tr>\n",
       "    <tr>\n",
       "      <th>892</th>\n",
       "      <td>0</td>\n",
       "      <td>0</td>\n",
       "      <td>0.074574</td>\n",
       "    </tr>\n",
       "    <tr>\n",
       "      <th>1493</th>\n",
       "      <td>0</td>\n",
       "      <td>0</td>\n",
       "      <td>0.471841</td>\n",
       "    </tr>\n",
       "    <tr>\n",
       "      <th>1821</th>\n",
       "      <td>1</td>\n",
       "      <td>0</td>\n",
       "      <td>0.294559</td>\n",
       "    </tr>\n",
       "  </tbody>\n",
       "</table>\n",
       "</div>"
      ],
      "text/plain": [
       "      actual  predicted  probability_HIGH\n",
       "625        1          1          0.523262\n",
       "1402       0          0          0.204612\n",
       "892        0          0          0.074574\n",
       "1493       0          0          0.471841\n",
       "1821       1          0          0.294559"
      ]
     },
     "execution_count": 106,
     "metadata": {},
     "output_type": "execute_result"
    }
   ],
   "source": [
    "predictions_df = pd.DataFrame()\n",
    "predictions_df['actual']= y_test\n",
    "predictions_df['predicted']= predictions\n",
    "predictions_df['probability_HIGH']= gs_lr.best_estimator_.predict_proba(X_test)[:,1]\n",
    "predictions_df.head()"
   ]
  },
  {
   "cell_type": "code",
   "execution_count": 107,
   "metadata": {
    "ExecuteTime": {
     "end_time": "2020-04-03T15:32:46.921124Z",
     "start_time": "2020-04-03T15:32:45.774818Z"
    },
    "hidden": true
   },
   "outputs": [
    {
     "data": {
      "image/png": "[encoded data removed]",
      "text/plain": [
       "<Figure size 432x288 with 1 Axes>"
      ]
     },
     "metadata": {
      "needs_background": "light"
     },
     "output_type": "display_data"
    }
   ],
   "source": [
    "false_positives = []\n",
    "for thresh in np.arange(1, 100)/100:\n",
    "    labeled_1 = np.array([1 if x >= thresh else 0 for x in predictions_df.probability_HIGH.values])\n",
    "    fp = np.mean((y_test == 0) & (labeled_1 == 1))\n",
    "    false_positives.append(fp)\n",
    "   \n",
    "\n",
    "accuracy = []\n",
    "for thresh in np.arange(1, 100)/100:\n",
    "    labeled_1 = np.array([1 if x >= thresh else 0 for x in predictions_df.probability_HIGH.values])\n",
    "    acc = np.mean(labeled_1 == y_test)\n",
    "    accuracy.append(acc)\n",
    "    \n",
    "false_positives = np.array(false_positives)\n",
    "accuracy = np.array(accuracy)\n",
    "plt.plot(np.arange(1, 100)/100, false_positives, label='false positives')\n",
    "plt.plot(np.arange(1, 100)/100, accuracy, label='accuracies')\n",
    "plt.legend()\n",
    "plt.xlabel('threshold')\n",
    "plt.show()"
   ]
  },
  {
   "cell_type": "code",
   "execution_count": 120,
   "metadata": {
    "ExecuteTime": {
     "end_time": "2020-04-03T15:35:25.169607Z",
     "start_time": "2020-04-03T15:35:25.148584Z"
    },
    "hidden": true
   },
   "outputs": [
    {
     "data": {
      "text/html": [
       "<div>\n",
       "<style scoped>\n",
       "    .dataframe tbody tr th:only-of-type {\n",
       "        vertical-align: middle;\n",
       "    }\n",
       "\n",
       "    .dataframe tbody tr th {\n",
       "        vertical-align: top;\n",
       "    }\n",
       "\n",
       "    .dataframe thead th {\n",
       "        text-align: right;\n",
       "    }\n",
       "</style>\n",
       "<table border=\"1\" class=\"dataframe\">\n",
       "  <thead>\n",
       "    <tr style=\"text-align: right;\">\n",
       "      <th></th>\n",
       "      <th>actual</th>\n",
       "      <th>predicted</th>\n",
       "      <th>probability_HIGH</th>\n",
       "      <th>60_precent_threshold</th>\n",
       "    </tr>\n",
       "  </thead>\n",
       "  <tbody>\n",
       "    <tr>\n",
       "      <th>625</th>\n",
       "      <td>1</td>\n",
       "      <td>1</td>\n",
       "      <td>0.523262</td>\n",
       "      <td>0</td>\n",
       "    </tr>\n",
       "    <tr>\n",
       "      <th>1402</th>\n",
       "      <td>0</td>\n",
       "      <td>0</td>\n",
       "      <td>0.204612</td>\n",
       "      <td>0</td>\n",
       "    </tr>\n",
       "    <tr>\n",
       "      <th>892</th>\n",
       "      <td>0</td>\n",
       "      <td>0</td>\n",
       "      <td>0.074574</td>\n",
       "      <td>0</td>\n",
       "    </tr>\n",
       "    <tr>\n",
       "      <th>1493</th>\n",
       "      <td>0</td>\n",
       "      <td>0</td>\n",
       "      <td>0.471841</td>\n",
       "      <td>0</td>\n",
       "    </tr>\n",
       "    <tr>\n",
       "      <th>1821</th>\n",
       "      <td>1</td>\n",
       "      <td>0</td>\n",
       "      <td>0.294559</td>\n",
       "      <td>0</td>\n",
       "    </tr>\n",
       "  </tbody>\n",
       "</table>\n",
       "</div>"
      ],
      "text/plain": [
       "      actual  predicted  probability_HIGH  60_precent_threshold\n",
       "625        1          1          0.523262                     0\n",
       "1402       0          0          0.204612                     0\n",
       "892        0          0          0.074574                     0\n",
       "1493       0          0          0.471841                     0\n",
       "1821       1          0          0.294559                     0"
      ]
     },
     "execution_count": 120,
     "metadata": {},
     "output_type": "execute_result"
    }
   ],
   "source": [
    "predictions_df['60_precent_threshold']= predictions_df.probability_HIGH.map(lambda x:1 if x>= 0.6 else 0)\n",
    "predictions_df.head()"
   ]
  },
  {
   "cell_type": "code",
   "execution_count": 121,
   "metadata": {
    "ExecuteTime": {
     "end_time": "2020-04-03T15:35:26.290348Z",
     "start_time": "2020-04-03T15:35:26.260966Z"
    },
    "hidden": true
   },
   "outputs": [
    {
     "data": {
      "text/html": [
       "<div>\n",
       "<style scoped>\n",
       "    .dataframe tbody tr th:only-of-type {\n",
       "        vertical-align: middle;\n",
       "    }\n",
       "\n",
       "    .dataframe tbody tr th {\n",
       "        vertical-align: top;\n",
       "    }\n",
       "\n",
       "    .dataframe thead th {\n",
       "        text-align: right;\n",
       "    }\n",
       "</style>\n",
       "<table border=\"1\" class=\"dataframe\">\n",
       "  <thead>\n",
       "    <tr style=\"text-align: right;\">\n",
       "      <th></th>\n",
       "      <th>scores 60_percent_threshold</th>\n",
       "    </tr>\n",
       "  </thead>\n",
       "  <tbody>\n",
       "    <tr>\n",
       "      <th>accuracy</th>\n",
       "      <td>0.675299</td>\n",
       "    </tr>\n",
       "    <tr>\n",
       "      <th>precision</th>\n",
       "      <td>0.762162</td>\n",
       "    </tr>\n",
       "    <tr>\n",
       "      <th>recall</th>\n",
       "      <td>0.542308</td>\n",
       "    </tr>\n",
       "    <tr>\n",
       "      <th>f1</th>\n",
       "      <td>0.633708</td>\n",
       "    </tr>\n",
       "  </tbody>\n",
       "</table>\n",
       "</div>"
      ],
      "text/plain": [
       "           scores 60_percent_threshold\n",
       "accuracy                      0.675299\n",
       "precision                     0.762162\n",
       "recall                        0.542308\n",
       "f1                            0.633708"
      ]
     },
     "execution_count": 121,
     "metadata": {},
     "output_type": "execute_result"
    }
   ],
   "source": [
    "pd.DataFrame([accuracy_score(y_test, predictions_df['60_precent_threshold']), \n",
    "              precision_score(y_test, predictions_df['60_precent_threshold']),\n",
    "              recall_score(y_test, predictions_df['60_precent_threshold']),\n",
    "              f1_score(y_test, predictions_df['60_precent_threshold'])], columns = ['scores 60_percent_threshold'], \n",
    "             index = ['accuracy','precision', 'recall', 'f1'])"
   ]
  },
  {
   "cell_type": "code",
   "execution_count": 122,
   "metadata": {
    "ExecuteTime": {
     "end_time": "2020-04-03T15:35:27.313169Z",
     "start_time": "2020-04-03T15:35:27.280336Z"
    },
    "hidden": true
   },
   "outputs": [
    {
     "data": {
      "text/html": [
       "<div>\n",
       "<style scoped>\n",
       "    .dataframe tbody tr th:only-of-type {\n",
       "        vertical-align: middle;\n",
       "    }\n",
       "\n",
       "    .dataframe tbody tr th {\n",
       "        vertical-align: top;\n",
       "    }\n",
       "\n",
       "    .dataframe thead th {\n",
       "        text-align: right;\n",
       "    }\n",
       "</style>\n",
       "<table border=\"1\" class=\"dataframe\">\n",
       "  <thead>\n",
       "    <tr style=\"text-align: right;\">\n",
       "      <th></th>\n",
       "      <th>predicted LOW</th>\n",
       "      <th>predicted HIGH</th>\n",
       "    </tr>\n",
       "  </thead>\n",
       "  <tbody>\n",
       "    <tr>\n",
       "      <th>actual LOW</th>\n",
       "      <td>198</td>\n",
       "      <td>44</td>\n",
       "    </tr>\n",
       "    <tr>\n",
       "      <th>actual HIGH</th>\n",
       "      <td>119</td>\n",
       "      <td>141</td>\n",
       "    </tr>\n",
       "  </tbody>\n",
       "</table>\n",
       "</div>"
      ],
      "text/plain": [
       "             predicted LOW  predicted HIGH\n",
       "actual LOW             198              44\n",
       "actual HIGH            119             141"
      ]
     },
     "execution_count": 122,
     "metadata": {},
     "output_type": "execute_result"
    }
   ],
   "source": [
    "pd.DataFrame(confusion_matrix(y_test, predictions_df['60_precent_threshold']), index = ['actual LOW', 'actual HIGH'], \n",
    "             columns = ['predicted LOW', 'predicted HIGH'])"
   ]
  },
  {
   "cell_type": "code",
   "execution_count": 32,
   "metadata": {
    "ExecuteTime": {
     "end_time": "2020-04-07T14:57:42.960295Z",
     "start_time": "2020-04-07T14:57:42.952579Z"
    },
    "hidden": true
   },
   "outputs": [],
   "source": [
    "from sklearn.metrics import roc_curve, auc, precision_recall_curve, average_precision_score"
   ]
  },
  {
   "cell_type": "code",
   "execution_count": 124,
   "metadata": {
    "ExecuteTime": {
     "end_time": "2020-04-03T15:35:31.331248Z",
     "start_time": "2020-04-03T15:35:31.113584Z"
    },
    "hidden": true
   },
   "outputs": [
    {
     "data": {
      "image/png": "[encoded data removed]",
      "text/plain": [
       "<Figure size 432x432 with 1 Axes>"
      ]
     },
     "metadata": {
      "needs_background": "light"
     },
     "output_type": "display_data"
    }
   ],
   "source": [
    "# For class 1, find the area under the curve\n",
    "fpr, tpr, threshold = roc_curve(y_test, predictions_df.probability_HIGH)\n",
    "roc_auc = auc(fpr, tpr)\n",
    "\n",
    "# Plot of a ROC curve for class 1 (high salary)\n",
    "plt.figure(figsize=[6, 6])\n",
    "plt.plot(fpr, tpr, label='ROC curve (area = %0.2f)' % roc_auc, linewidth=4)\n",
    "plt.plot([0, 1], [0, 1], 'k--', linewidth=4)\n",
    "plt.xlim([-0.05, 1.0])\n",
    "plt.ylim([-0.05, 1.05])\n",
    "plt.xlabel('False Positive Rate', fontsize=18)\n",
    "plt.ylabel('True Positive Rate', fontsize=18)\n",
    "plt.title('ROC curve', fontsize=18)\n",
    "plt.legend(loc=\"lower right\")\n",
    "plt.show()"
   ]
  },
  {
   "cell_type": "code",
   "execution_count": 125,
   "metadata": {
    "ExecuteTime": {
     "end_time": "2020-04-03T15:35:32.434704Z",
     "start_time": "2020-04-03T15:35:32.209609Z"
    },
    "hidden": true
   },
   "outputs": [
    {
     "data": {
      "image/png": "[encoded data removed]",
      "text/plain": [
       "<Figure size 432x432 with 1 Axes>"
      ]
     },
     "metadata": {
      "needs_background": "light"
     },
     "output_type": "display_data"
    }
   ],
   "source": [
    "# For class 1, find the area under the curve\n",
    "precision, recall, threshold = precision_recall_curve(y_test, predictions_df.probability_HIGH)\n",
    "\n",
    "\n",
    "# Plot of a precision-recall curve for class 1 (high salary)\n",
    "plt.figure(figsize=[6, 6])\n",
    "plt.plot(recall, precision, label='Precision-recall curve', linewidth=4)\n",
    "plt.xlim([-0.05, 1.0])\n",
    "plt.ylim([-0.05, 1.05])\n",
    "plt.xlabel('Recall', fontsize=18)\n",
    "plt.ylabel('Precision', fontsize=18)\n",
    "plt.title('Precision-Recall curve', fontsize=18)\n",
    "plt.legend(loc=\"lower right\")\n",
    "plt.show()"
   ]
  },
  {
   "cell_type": "markdown",
   "metadata": {},
   "source": [
    "### Multi-feature modelling with Random Forest Classifier"
   ]
  },
  {
   "cell_type": "code",
   "execution_count": 15,
   "metadata": {
    "ExecuteTime": {
     "end_time": "2020-04-07T14:47:09.758289Z",
     "start_time": "2020-04-07T14:47:09.754257Z"
    }
   },
   "outputs": [],
   "source": [
    "from sklearn.ensemble import RandomForestClassifier"
   ]
  },
  {
   "cell_type": "code",
   "execution_count": 16,
   "metadata": {
    "ExecuteTime": {
     "end_time": "2020-04-07T14:47:14.736556Z",
     "start_time": "2020-04-07T14:47:14.723031Z"
    }
   },
   "outputs": [],
   "source": [
    "# set up grid search with random forest model\n",
    "\n",
    "rfc = RandomForestClassifier()\n",
    "\n",
    "rfc_params = {'max_depth':range(1,20),\n",
    "          'max_features':[\"auto\",\"log2\",0.5, 0.8],\n",
    "         'criterion':['gini','entropy'],\n",
    "         'bootstrap':[True,False]}\n",
    "\n",
    "gs_rfc = GridSearchCV(estimator=rfc,\n",
    "                     param_grid=rfc_params,\n",
    "                     cv=5,\n",
    "                     verbose = 1,\n",
    "                    n_jobs = 2)\n",
    "\n"
   ]
  },
  {
   "cell_type": "code",
   "execution_count": 17,
   "metadata": {
    "ExecuteTime": {
     "end_time": "2020-04-07T14:54:09.738631Z",
     "start_time": "2020-04-07T14:47:24.427625Z"
    }
   },
   "outputs": [
    {
     "name": "stdout",
     "output_type": "stream",
     "text": [
      "Fitting 5 folds for each of 304 candidates, totalling 1520 fits\n"
     ]
    },
    {
     "name": "stderr",
     "output_type": "stream",
     "text": [
      "[Parallel(n_jobs=2)]: Using backend LokyBackend with 2 concurrent workers.\n",
      "[Parallel(n_jobs=2)]: Done  46 tasks      | elapsed:   12.7s\n",
      "[Parallel(n_jobs=2)]: Done 196 tasks      | elapsed:  1.1min\n",
      "[Parallel(n_jobs=2)]: Done 446 tasks      | elapsed:  2.3min\n",
      "[Parallel(n_jobs=2)]: Done 796 tasks      | elapsed:  4.0min\n",
      "[Parallel(n_jobs=2)]: Done 1246 tasks      | elapsed:  5.7min\n",
      "[Parallel(n_jobs=2)]: Done 1520 out of 1520 | elapsed:  6.7min finished\n"
     ]
    },
    {
     "data": {
      "text/plain": [
       "GridSearchCV(cv=5, error_score=nan,\n",
       "             estimator=RandomForestClassifier(bootstrap=True, ccp_alpha=0.0,\n",
       "                                              class_weight=None,\n",
       "                                              criterion='gini', max_depth=None,\n",
       "                                              max_features='auto',\n",
       "                                              max_leaf_nodes=None,\n",
       "                                              max_samples=None,\n",
       "                                              min_impurity_decrease=0.0,\n",
       "                                              min_impurity_split=None,\n",
       "                                              min_samples_leaf=1,\n",
       "                                              min_samples_split=2,\n",
       "                                              min_weight_fraction_leaf=0.0,\n",
       "                                              n_estimators=100, n_jobs=None,\n",
       "                                              oob_score=False,\n",
       "                                              random_state=None, verbose=0,\n",
       "                                              warm_start=False),\n",
       "             iid='deprecated', n_jobs=2,\n",
       "             param_grid={'bootstrap': [True, False],\n",
       "                         'criterion': ['gini', 'entropy'],\n",
       "                         'max_depth': range(1, 20),\n",
       "                         'max_features': ['auto', 'log2', 0.5, 0.8]},\n",
       "             pre_dispatch='2*n_jobs', refit=True, return_train_score=False,\n",
       "             scoring=None, verbose=1)"
      ]
     },
     "execution_count": 17,
     "metadata": {},
     "output_type": "execute_result"
    }
   ],
   "source": [
    "gs_rfc.fit(X_train, y_train)"
   ]
  },
  {
   "cell_type": "code",
   "execution_count": 18,
   "metadata": {
    "ExecuteTime": {
     "end_time": "2020-04-07T14:54:18.135135Z",
     "start_time": "2020-04-07T14:54:17.974504Z"
    }
   },
   "outputs": [
    {
     "name": "stdout",
     "output_type": "stream",
     "text": [
      "Best Parameters:\n",
      "{'bootstrap': False, 'criterion': 'entropy', 'max_depth': 15, 'max_features': 'auto'}\n",
      "Best estimator CV score:\n",
      "0.7040111164873885\n",
      "Best estimator score on the full training set:\n",
      "0.7867463876432487\n",
      "Best estimator score on the test set:\n",
      "0.7051792828685259\n"
     ]
    }
   ],
   "source": [
    "# extract the grid search results\n",
    "\n",
    "print('Best Parameters:')\n",
    "print(gs_rfc.best_params_)\n",
    "print('Best estimator CV score:')\n",
    "print(gs_rfc.best_score_)\n",
    "print('Best estimator score on the full training set:')\n",
    "print(gs_rfc.score(X_train, y_train))\n",
    "print('Best estimator score on the test set:')\n",
    "print(gs_rfc.score(X_test, y_test))"
   ]
  },
  {
   "cell_type": "code",
   "execution_count": 143,
   "metadata": {
    "ExecuteTime": {
     "end_time": "2020-04-03T16:39:29.092093Z",
     "start_time": "2020-04-03T16:36:14.158071Z"
    }
   },
   "outputs": [
    {
     "name": "stdout",
     "output_type": "stream",
     "text": [
      "Best estimator mean cross validated training score:\n",
      "0.6795821391794147\n",
      "Best estimator score on the full training set:\n",
      "0.809666168410563\n",
      "Best estimator score on the test set:\n",
      "0.7131474103585658\n",
      "Feature importances:\n"
     ]
    },
    {
     "name": "stderr",
     "output_type": "stream",
     "text": [
      "/anaconda3/lib/python3.7/site-packages/sklearn/tree/_classes.py:578: RuntimeWarning: invalid value encountered in true_divide\n",
      "  return self.tree_.compute_feature_importances()\n"
     ]
    },
    {
     "name": "stdout",
     "output_type": "stream",
     "text": [
      "[nan nan nan nan nan nan nan nan nan nan nan nan nan nan nan nan nan nan\n",
      " nan nan nan nan nan nan nan nan nan nan nan nan nan nan nan nan nan nan\n",
      " nan nan nan nan nan nan nan]\n"
     ]
    }
   ],
   "source": [
    "ada_boost = AdaBoostClassifier(base_estimator=gs_rfc.best_estimator_,\n",
    "                           n_estimators=100,\n",
    "                           random_state=1)\n",
    "\n",
    "ada_boost.fit(X_train, y_train)\n",
    "\n",
    "\n",
    "print('Best estimator mean cross validated training score:')\n",
    "print(cross_val_score(ada_boost, X_train, y_train, cv=5).mean())\n",
    "print('Best estimator score on the full training set:')\n",
    "print(ada_boost.score(X_train, y_train))\n",
    "print('Best estimator score on the test set:')\n",
    "print(ada_boost.score(X_test, y_test))\n",
    "print('Feature importances:')\n",
    "print(ada_boost.feature_importances_)"
   ]
  },
  {
   "cell_type": "code",
   "execution_count": null,
   "metadata": {},
   "outputs": [],
   "source": [
    "# the score is worse with ada boost so i will only consider the original random forest classifier"
   ]
  },
  {
   "cell_type": "code",
   "execution_count": 19,
   "metadata": {
    "ExecuteTime": {
     "end_time": "2020-04-07T14:54:25.301665Z",
     "start_time": "2020-04-07T14:54:25.251985Z"
    }
   },
   "outputs": [],
   "source": [
    "predictions = gs_rfc.best_estimator_.predict(X_test)"
   ]
  },
  {
   "cell_type": "code",
   "execution_count": 22,
   "metadata": {
    "ExecuteTime": {
     "end_time": "2020-04-07T14:54:50.758292Z",
     "start_time": "2020-04-07T14:54:50.727915Z"
    }
   },
   "outputs": [
    {
     "data": {
      "text/html": [
       "<div>\n",
       "<style scoped>\n",
       "    .dataframe tbody tr th:only-of-type {\n",
       "        vertical-align: middle;\n",
       "    }\n",
       "\n",
       "    .dataframe tbody tr th {\n",
       "        vertical-align: top;\n",
       "    }\n",
       "\n",
       "    .dataframe thead th {\n",
       "        text-align: right;\n",
       "    }\n",
       "</style>\n",
       "<table border=\"1\" class=\"dataframe\">\n",
       "  <thead>\n",
       "    <tr style=\"text-align: right;\">\n",
       "      <th></th>\n",
       "      <th>predicted LOW</th>\n",
       "      <th>predicted HIGH</th>\n",
       "    </tr>\n",
       "  </thead>\n",
       "  <tbody>\n",
       "    <tr>\n",
       "      <th>actual LOW</th>\n",
       "      <td>153</td>\n",
       "      <td>89</td>\n",
       "    </tr>\n",
       "    <tr>\n",
       "      <th>actual HIGH</th>\n",
       "      <td>59</td>\n",
       "      <td>201</td>\n",
       "    </tr>\n",
       "  </tbody>\n",
       "</table>\n",
       "</div>"
      ],
      "text/plain": [
       "             predicted LOW  predicted HIGH\n",
       "actual LOW             153              89\n",
       "actual HIGH             59             201"
      ]
     },
     "execution_count": 22,
     "metadata": {},
     "output_type": "execute_result"
    }
   ],
   "source": [
    "pd.DataFrame(confusion_matrix(y_test, predictions), index = ['actual LOW', 'actual HIGH'], \n",
    "             columns = ['predicted LOW', 'predicted HIGH'])"
   ]
  },
  {
   "cell_type": "code",
   "execution_count": 23,
   "metadata": {
    "ExecuteTime": {
     "end_time": "2020-04-07T14:55:31.444437Z",
     "start_time": "2020-04-07T14:55:31.407376Z"
    }
   },
   "outputs": [
    {
     "data": {
      "text/html": [
       "<div>\n",
       "<style scoped>\n",
       "    .dataframe tbody tr th:only-of-type {\n",
       "        vertical-align: middle;\n",
       "    }\n",
       "\n",
       "    .dataframe tbody tr th {\n",
       "        vertical-align: top;\n",
       "    }\n",
       "\n",
       "    .dataframe thead th {\n",
       "        text-align: right;\n",
       "    }\n",
       "</style>\n",
       "<table border=\"1\" class=\"dataframe\">\n",
       "  <thead>\n",
       "    <tr style=\"text-align: right;\">\n",
       "      <th></th>\n",
       "      <th>scores</th>\n",
       "    </tr>\n",
       "  </thead>\n",
       "  <tbody>\n",
       "    <tr>\n",
       "      <th>accuracy</th>\n",
       "      <td>0.705179</td>\n",
       "    </tr>\n",
       "    <tr>\n",
       "      <th>precision</th>\n",
       "      <td>0.693103</td>\n",
       "    </tr>\n",
       "    <tr>\n",
       "      <th>recall</th>\n",
       "      <td>0.773077</td>\n",
       "    </tr>\n",
       "    <tr>\n",
       "      <th>f1</th>\n",
       "      <td>0.730909</td>\n",
       "    </tr>\n",
       "  </tbody>\n",
       "</table>\n",
       "</div>"
      ],
      "text/plain": [
       "             scores\n",
       "accuracy   0.705179\n",
       "precision  0.693103\n",
       "recall     0.773077\n",
       "f1         0.730909"
      ]
     },
     "execution_count": 23,
     "metadata": {},
     "output_type": "execute_result"
    }
   ],
   "source": [
    "pd.DataFrame([accuracy_score(y_test, predictions), precision_score(y_test, predictions),\n",
    "              recall_score(y_test, predictions), f1_score(y_test, predictions)], columns = ['scores'], \n",
    "             index = ['accuracy','precision', 'recall', 'f1'])"
   ]
  },
  {
   "cell_type": "code",
   "execution_count": 24,
   "metadata": {
    "ExecuteTime": {
     "end_time": "2020-04-07T14:55:38.297715Z",
     "start_time": "2020-04-07T14:55:38.219482Z"
    }
   },
   "outputs": [
    {
     "data": {
      "text/html": [
       "<div>\n",
       "<style scoped>\n",
       "    .dataframe tbody tr th:only-of-type {\n",
       "        vertical-align: middle;\n",
       "    }\n",
       "\n",
       "    .dataframe tbody tr th {\n",
       "        vertical-align: top;\n",
       "    }\n",
       "\n",
       "    .dataframe thead th {\n",
       "        text-align: right;\n",
       "    }\n",
       "</style>\n",
       "<table border=\"1\" class=\"dataframe\">\n",
       "  <thead>\n",
       "    <tr style=\"text-align: right;\">\n",
       "      <th></th>\n",
       "      <th>actual</th>\n",
       "      <th>predicted</th>\n",
       "      <th>probability_HIGH</th>\n",
       "    </tr>\n",
       "  </thead>\n",
       "  <tbody>\n",
       "    <tr>\n",
       "      <th>625</th>\n",
       "      <td>1</td>\n",
       "      <td>1</td>\n",
       "      <td>0.528968</td>\n",
       "    </tr>\n",
       "    <tr>\n",
       "      <th>1402</th>\n",
       "      <td>0</td>\n",
       "      <td>0</td>\n",
       "      <td>0.289299</td>\n",
       "    </tr>\n",
       "    <tr>\n",
       "      <th>892</th>\n",
       "      <td>0</td>\n",
       "      <td>0</td>\n",
       "      <td>0.252292</td>\n",
       "    </tr>\n",
       "    <tr>\n",
       "      <th>1493</th>\n",
       "      <td>0</td>\n",
       "      <td>1</td>\n",
       "      <td>0.563760</td>\n",
       "    </tr>\n",
       "    <tr>\n",
       "      <th>1821</th>\n",
       "      <td>1</td>\n",
       "      <td>0</td>\n",
       "      <td>0.284760</td>\n",
       "    </tr>\n",
       "  </tbody>\n",
       "</table>\n",
       "</div>"
      ],
      "text/plain": [
       "      actual  predicted  probability_HIGH\n",
       "625        1          1          0.528968\n",
       "1402       0          0          0.289299\n",
       "892        0          0          0.252292\n",
       "1493       0          1          0.563760\n",
       "1821       1          0          0.284760"
      ]
     },
     "execution_count": 24,
     "metadata": {},
     "output_type": "execute_result"
    }
   ],
   "source": [
    "predictions_df = pd.DataFrame()\n",
    "predictions_df['actual']= y_test\n",
    "predictions_df['predicted']= predictions\n",
    "predictions_df['probability_HIGH']= gs_rfc.best_estimator_.predict_proba(X_test)[:,1]\n",
    "predictions_df.head()"
   ]
  },
  {
   "cell_type": "code",
   "execution_count": 27,
   "metadata": {
    "ExecuteTime": {
     "end_time": "2020-04-07T14:56:50.429490Z",
     "start_time": "2020-04-07T14:56:49.858876Z"
    }
   },
   "outputs": [
    {
     "data": {
      "image/png": "[encoded data removed]",
      "text/plain": [
       "<Figure size 432x288 with 1 Axes>"
      ]
     },
     "metadata": {
      "needs_background": "light"
     },
     "output_type": "display_data"
    }
   ],
   "source": [
    "false_positives = []\n",
    "for thresh in np.arange(1, 100)/100:\n",
    "    labeled_1 = np.array([1 if x >= thresh else 0 for x in predictions_df.probability_HIGH.values])\n",
    "    fp = np.mean((y_test == 0) & (labeled_1 == 1))\n",
    "    false_positives.append(fp)\n",
    "   \n",
    "\n",
    "accuracy = []\n",
    "for thresh in np.arange(1, 100)/100:\n",
    "    labeled_1 = np.array([1 if x >= thresh else 0 for x in predictions_df.probability_HIGH.values])\n",
    "    acc = np.mean(labeled_1 == y_test)\n",
    "    accuracy.append(acc)\n",
    "    \n",
    "false_positives = np.array(false_positives)\n",
    "accuracy = np.array(accuracy)\n",
    "plt.plot(np.arange(1, 100)/100, false_positives, label='false positives')\n",
    "plt.plot(np.arange(1, 100)/100, accuracy, label='accuracies')\n",
    "plt.legend()\n",
    "plt.xlabel('threshold')\n",
    "plt.show()"
   ]
  },
  {
   "cell_type": "code",
   "execution_count": 28,
   "metadata": {
    "ExecuteTime": {
     "end_time": "2020-04-07T14:56:54.377219Z",
     "start_time": "2020-04-07T14:56:54.355412Z"
    }
   },
   "outputs": [
    {
     "data": {
      "text/html": [
       "<div>\n",
       "<style scoped>\n",
       "    .dataframe tbody tr th:only-of-type {\n",
       "        vertical-align: middle;\n",
       "    }\n",
       "\n",
       "    .dataframe tbody tr th {\n",
       "        vertical-align: top;\n",
       "    }\n",
       "\n",
       "    .dataframe thead th {\n",
       "        text-align: right;\n",
       "    }\n",
       "</style>\n",
       "<table border=\"1\" class=\"dataframe\">\n",
       "  <thead>\n",
       "    <tr style=\"text-align: right;\">\n",
       "      <th></th>\n",
       "      <th>actual</th>\n",
       "      <th>predicted</th>\n",
       "      <th>probability_HIGH</th>\n",
       "      <th>60_precent_threshold</th>\n",
       "    </tr>\n",
       "  </thead>\n",
       "  <tbody>\n",
       "    <tr>\n",
       "      <th>625</th>\n",
       "      <td>1</td>\n",
       "      <td>1</td>\n",
       "      <td>0.528968</td>\n",
       "      <td>0</td>\n",
       "    </tr>\n",
       "    <tr>\n",
       "      <th>1402</th>\n",
       "      <td>0</td>\n",
       "      <td>0</td>\n",
       "      <td>0.289299</td>\n",
       "      <td>0</td>\n",
       "    </tr>\n",
       "    <tr>\n",
       "      <th>892</th>\n",
       "      <td>0</td>\n",
       "      <td>0</td>\n",
       "      <td>0.252292</td>\n",
       "      <td>0</td>\n",
       "    </tr>\n",
       "    <tr>\n",
       "      <th>1493</th>\n",
       "      <td>0</td>\n",
       "      <td>1</td>\n",
       "      <td>0.563760</td>\n",
       "      <td>0</td>\n",
       "    </tr>\n",
       "    <tr>\n",
       "      <th>1821</th>\n",
       "      <td>1</td>\n",
       "      <td>0</td>\n",
       "      <td>0.284760</td>\n",
       "      <td>0</td>\n",
       "    </tr>\n",
       "  </tbody>\n",
       "</table>\n",
       "</div>"
      ],
      "text/plain": [
       "      actual  predicted  probability_HIGH  60_precent_threshold\n",
       "625        1          1          0.528968                     0\n",
       "1402       0          0          0.289299                     0\n",
       "892        0          0          0.252292                     0\n",
       "1493       0          1          0.563760                     0\n",
       "1821       1          0          0.284760                     0"
      ]
     },
     "execution_count": 28,
     "metadata": {},
     "output_type": "execute_result"
    }
   ],
   "source": [
    "predictions_df['60_precent_threshold']= predictions_df.probability_HIGH.map(lambda x:1 if x>= 0.6 else 0)\n",
    "predictions_df.head()"
   ]
  },
  {
   "cell_type": "code",
   "execution_count": 29,
   "metadata": {
    "ExecuteTime": {
     "end_time": "2020-04-07T14:57:02.449999Z",
     "start_time": "2020-04-07T14:57:02.408032Z"
    }
   },
   "outputs": [
    {
     "data": {
      "text/html": [
       "<div>\n",
       "<style scoped>\n",
       "    .dataframe tbody tr th:only-of-type {\n",
       "        vertical-align: middle;\n",
       "    }\n",
       "\n",
       "    .dataframe tbody tr th {\n",
       "        vertical-align: top;\n",
       "    }\n",
       "\n",
       "    .dataframe thead th {\n",
       "        text-align: right;\n",
       "    }\n",
       "</style>\n",
       "<table border=\"1\" class=\"dataframe\">\n",
       "  <thead>\n",
       "    <tr style=\"text-align: right;\">\n",
       "      <th></th>\n",
       "      <th>scores 60_percent_threshold</th>\n",
       "    </tr>\n",
       "  </thead>\n",
       "  <tbody>\n",
       "    <tr>\n",
       "      <th>accuracy</th>\n",
       "      <td>0.653386</td>\n",
       "    </tr>\n",
       "    <tr>\n",
       "      <th>precision</th>\n",
       "      <td>0.762195</td>\n",
       "    </tr>\n",
       "    <tr>\n",
       "      <th>recall</th>\n",
       "      <td>0.480769</td>\n",
       "    </tr>\n",
       "    <tr>\n",
       "      <th>f1</th>\n",
       "      <td>0.589623</td>\n",
       "    </tr>\n",
       "  </tbody>\n",
       "</table>\n",
       "</div>"
      ],
      "text/plain": [
       "           scores 60_percent_threshold\n",
       "accuracy                      0.653386\n",
       "precision                     0.762195\n",
       "recall                        0.480769\n",
       "f1                            0.589623"
      ]
     },
     "execution_count": 29,
     "metadata": {},
     "output_type": "execute_result"
    }
   ],
   "source": [
    "pd.DataFrame([accuracy_score(y_test, predictions_df['60_precent_threshold']), \n",
    "              precision_score(y_test, predictions_df['60_precent_threshold']),\n",
    "              recall_score(y_test, predictions_df['60_precent_threshold']),\n",
    "              f1_score(y_test, predictions_df['60_precent_threshold'])], columns = ['scores 60_percent_threshold'], \n",
    "             index = ['accuracy','precision', 'recall', 'f1'])"
   ]
  },
  {
   "cell_type": "code",
   "execution_count": 30,
   "metadata": {
    "ExecuteTime": {
     "end_time": "2020-04-07T14:57:25.149765Z",
     "start_time": "2020-04-07T14:57:25.129466Z"
    }
   },
   "outputs": [
    {
     "data": {
      "text/html": [
       "<div>\n",
       "<style scoped>\n",
       "    .dataframe tbody tr th:only-of-type {\n",
       "        vertical-align: middle;\n",
       "    }\n",
       "\n",
       "    .dataframe tbody tr th {\n",
       "        vertical-align: top;\n",
       "    }\n",
       "\n",
       "    .dataframe thead th {\n",
       "        text-align: right;\n",
       "    }\n",
       "</style>\n",
       "<table border=\"1\" class=\"dataframe\">\n",
       "  <thead>\n",
       "    <tr style=\"text-align: right;\">\n",
       "      <th></th>\n",
       "      <th>predicted LOW</th>\n",
       "      <th>predicted HIGH</th>\n",
       "    </tr>\n",
       "  </thead>\n",
       "  <tbody>\n",
       "    <tr>\n",
       "      <th>actual LOW</th>\n",
       "      <td>203</td>\n",
       "      <td>39</td>\n",
       "    </tr>\n",
       "    <tr>\n",
       "      <th>actual HIGH</th>\n",
       "      <td>135</td>\n",
       "      <td>125</td>\n",
       "    </tr>\n",
       "  </tbody>\n",
       "</table>\n",
       "</div>"
      ],
      "text/plain": [
       "             predicted LOW  predicted HIGH\n",
       "actual LOW             203              39\n",
       "actual HIGH            135             125"
      ]
     },
     "execution_count": 30,
     "metadata": {},
     "output_type": "execute_result"
    }
   ],
   "source": [
    "pd.DataFrame(confusion_matrix(y_test, predictions_df['60_precent_threshold']), index = ['actual LOW', 'actual HIGH'], \n",
    "             columns = ['predicted LOW', 'predicted HIGH'])"
   ]
  },
  {
   "cell_type": "code",
   "execution_count": 33,
   "metadata": {
    "ExecuteTime": {
     "end_time": "2020-04-07T14:57:49.550657Z",
     "start_time": "2020-04-07T14:57:49.206466Z"
    }
   },
   "outputs": [
    {
     "data": {
      "image/png": "[encoded data removed]",
      "text/plain": [
       "<Figure size 432x432 with 1 Axes>"
      ]
     },
     "metadata": {
      "needs_background": "light"
     },
     "output_type": "display_data"
    }
   ],
   "source": [
    "# For class 1, find the area under the curve\n",
    "fpr, tpr, threshold = roc_curve(y_test, predictions_df.probability_HIGH)\n",
    "roc_auc = auc(fpr, tpr)\n",
    "\n",
    "# Plot of a ROC curve for class 1 (high salary)\n",
    "plt.figure(figsize=[6, 6])\n",
    "plt.plot(fpr, tpr, label='ROC curve (area = %0.2f)' % roc_auc, linewidth=4)\n",
    "plt.plot([0, 1], [0, 1], 'k--', linewidth=4)\n",
    "plt.xlim([-0.05, 1.0])\n",
    "plt.ylim([-0.05, 1.05])\n",
    "plt.xlabel('False Positive Rate', fontsize=18)\n",
    "plt.ylabel('True Positive Rate', fontsize=18)\n",
    "plt.title('ROC curve', fontsize=18)\n",
    "plt.legend(loc=\"lower right\")\n",
    "plt.show()"
   ]
  },
  {
   "cell_type": "code",
   "execution_count": 34,
   "metadata": {
    "ExecuteTime": {
     "end_time": "2020-04-07T14:57:53.950499Z",
     "start_time": "2020-04-07T14:57:53.639419Z"
    }
   },
   "outputs": [
    {
     "data": {
      "image/png": "[encoded data removed]",
      "text/plain": [
       "<Figure size 432x432 with 1 Axes>"
      ]
     },
     "metadata": {
      "needs_background": "light"
     },
     "output_type": "display_data"
    }
   ],
   "source": [
    "# For class 1, find the area under the curve\n",
    "precision, recall, threshold = precision_recall_curve(y_test, predictions_df.probability_HIGH)\n",
    "\n",
    "\n",
    "# Plot of a precision-recall curve for class 1 (high salary)\n",
    "plt.figure(figsize=[6, 6])\n",
    "plt.plot(recall, precision, label='Precision-recall curve', linewidth=4)\n",
    "plt.xlim([-0.05, 1.0])\n",
    "plt.ylim([-0.05, 1.05])\n",
    "plt.xlabel('Recall', fontsize=18)\n",
    "plt.ylabel('Precision', fontsize=18)\n",
    "plt.title('Precision-Recall curve', fontsize=18)\n",
    "plt.legend(loc=\"lower right\")\n",
    "plt.show()"
   ]
  },
  {
   "cell_type": "markdown",
   "metadata": {},
   "source": [
    "### Summary\n",
    "\n",
    "Step1: Search on indeed.com for data scientist, data analyst, data engineer and data science jobs in different UK cities and scrape job title, company and salary for each job posting, then add the search location to the dataframe. It's better not to scrape location but just append it from search location because some posting might specify the neighbourood and not the city itself.\n",
    "\n",
    "Step2: clean the salary column and only consider job posting with an explicit salary a year (mean if range is explicited). EDA shows that median salary is 37500£ a year so i split salaries between high and low considering the median. Baseline accuracy: 0.5173375846950976.\n",
    "\n",
    "Step3: in order to model using only location as features, I dummify locations and drop liverpool because it has the lowest mean salary. I then use LogisticRegression with GridSearch (CV score 0.5739779903475143) and DecisionTreeClassifier with GridSearch (CV score 0.5739817123857025) + Boosting (CV score 0.5704966439622338). By looking at the coefficients we notice that higher salaries are associated with cities like Cambridge and London\n",
    "\n",
    "Step4: I categorise company and job titles by keywords, dummify the variables and join the new df with the dummified cities. EDA shows that many job postings include \"analyst\" in the title and the majority of these jobs are posted by recruitment companies, which will be useless for modelling later\n",
    "\n",
    "Step5: I convert the df to a sparse matrix to make calculations quicker. The LogisticRegression with GridSearch (CV score 0.6940484609372093) indicate that keywords like \"Director\" and \"Banking\" are associated to higher salaries, whereas \"Intern\", \"Graduate\" and \"Junior\" are indicator of a low salary. I also tried RandomForestClassifier with GridSearch and got a better CV score 0.7040111164873885. AdaBoost does not improve the score.\n",
    "\n",
    "Step6: to address the problem of misclassifying a lower paying job rather than telling a client incorrectly that they would get a high salary job, I need to minimise false positives by improving my precision score and threshold. Incresing the threshold to 60%, thus classifying anything with less than 60% probability as low income, I make my model less accurate but with a higher precision. This trade-off is shown by the roc curve. "
   ]
  }
 ],
 "metadata": {
  "kernelspec": {
   "display_name": "Python 3",
   "language": "python",
   "name": "python3"
  },
  "language_info": {
   "codemirror_mode": {
    "name": "ipython",
    "version": 3
   },
   "file_extension": ".py",
   "mimetype": "text/x-python",
   "name": "python",
   "nbconvert_exporter": "python",
   "pygments_lexer": "ipython3",
   "version": "3.7.1"
  },
  "toc": {
   "base_numbering": 1,
   "nav_menu": {},
   "number_sections": false,
   "sideBar": true,
   "skip_h1_title": true,
   "title_cell": "Table of Contents",
   "title_sidebar": "Contents",
   "toc_cell": false,
   "toc_position": {},
   "toc_section_display": "block",
   "toc_window_display": false
  },
  "varInspector": {
   "cols": {
    "lenName": 16,
    "lenType": 16,
    "lenVar": 40
   },
   "kernels_config": {
    "python": {
     "delete_cmd_postfix": "",
     "delete_cmd_prefix": "del ",
     "library": "var_list.py",
     "varRefreshCmd": "print(var_dic_list())"
    },
    "r": {
     "delete_cmd_postfix": ") ",
     "delete_cmd_prefix": "rm(",
     "library": "var_list.r",
     "varRefreshCmd": "cat(var_dic_list()) "
    }
   },
   "types_to_exclude": [
    "module",
    "function",
    "builtin_function_or_method",
    "instance",
    "_Feature"
   ],
   "window_display": false
  }
 },
 "nbformat": 4,
 "nbformat_minor": 1
}
